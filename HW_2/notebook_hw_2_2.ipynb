{
 "cells": [
  {
   "cell_type": "markdown",
   "id": "2f3cc1d0",
   "metadata": {},
   "source": [
    "# Задание 2.2 Кодирование марковского источника.\n",
    "  \n",
    "Для декапитализированного текста построить все контекстные модели 3-го порядка   \n",
    "(для каждого контекста собрать всю информацию, как в лекции 7).  \n",
    "Посчитать необходимый объём памяти для хранения всех моделей в несжатом виде.   \n",
    "Выбрать и обосновать способ кодирования для передачи модели декодеру,  \n",
    "указать длину получившегося кода и дать ссылку на использовавшиеся скрипты.  "
   ]
  },
  {
   "cell_type": "markdown",
   "id": "2c4e8a3b",
   "metadata": {},
   "source": [
    "Посчитаем для каждой подстроки длины 3 частоты её правого контекста длины 1 "
   ]
  },
  {
   "cell_type": "code",
   "execution_count": 1,
   "id": "8d57717f",
   "metadata": {},
   "outputs": [
    {
     "name": "stdout",
     "output_type": "stream",
     "text": [
      "imm : {'a': 22, 'o': 14, 'e': 99, 'i': 1, 'u': 1}\n",
      "kan : {'t': 1}\n",
      "rea : {'s': 1339, 't': 230, 'l': 545, 'd': 106, 'c': 40, 'f': 1, 'm': 10, 'k': 9, 'p': 3, 'n': 2, 'r': 2}\n",
      "pur : {'e': 807, 'p': 142, 's': 43, 'i': 13, 'a': 1}\n"
     ]
    }
   ],
   "source": [
    "from collections import defaultdict\n",
    "\n",
    "with open('decapitalized.txt', 'r', encoding='ASCII') as f:\n",
    "    text = f.read()\n",
    "\n",
    "\n",
    "max_order = 3\n",
    "counts = defaultdict(lambda: defaultdict(int))\n",
    "\n",
    "for i in range(max_order, len(text)):\n",
    "    context = text[i - max_order : i]  # берём 3 символа перед text[i]\n",
    "    next_char = text[i]\n",
    "    counts[context][next_char] += 1\n",
    "\n",
    "\n",
    "for test_context in ['imm', 'kan', 'rea', 'pur']:\n",
    "    print(f'{test_context} : {dict(counts[test_context])}')"
   ]
  },
  {
   "cell_type": "markdown",
   "id": "07018a8f",
   "metadata": {},
   "source": [
    "Посчитаем необходимый объём памяти для хранения всех моделей в несжатом виде.  \n",
    "Для каждой модели нужно хранить:  \n",
    "1. саму модель s (3 байта)  \n",
    "2. число $n_s$ символов, встречавшихся в контексте  \n",
    "3. сами встречавшиеся символы (по байту на символ)  \n",
    "4. частоты встречаемости символов в контексте ($n_s$ чисел)  "
   ]
  },
  {
   "cell_type": "code",
   "execution_count": 38,
   "id": "8cda3900",
   "metadata": {},
   "outputs": [],
   "source": [
    "def count_memory_size(models):\n",
    "    \"\"\" Вычисляет объем памяти, необходимый для хранения моделей \"\"\"\n",
    "    total_bytes = 0\n",
    "    for context, symbols in models.items():\n",
    "        # 1. Сам контекст s (3 байта)\n",
    "        total_bytes += 3\n",
    "        # 2. Число символов n_s (1 байт)\n",
    "        n_s = len(symbols)\n",
    "        total_bytes += 1\n",
    "        # 3. Сами символы (n_s байт)\n",
    "        total_bytes += n_s\n",
    "        # 4. Частоты встречаемости символов (n_s чисел по 4 байта каждое)\n",
    "        total_bytes += n_s * 4\n",
    "\n",
    "    return total_bytes  "
   ]
  },
  {
   "cell_type": "code",
   "execution_count": 39,
   "id": "0799b484",
   "metadata": {},
   "outputs": [
    {
     "name": "stdout",
     "output_type": "stream",
     "text": [
      "Для хранения всех моделей в несжатом виде требуется 167050 байт или 163.13 кб\n"
     ]
    }
   ],
   "source": [
    "memory_size = count_memory_size(counts)\n",
    "\n",
    "print(f'Для хранения всех моделей в несжатом виде требуется {memory_size} байт или {round(memory_size / 1024, 2)} кб')"
   ]
  },
  {
   "cell_type": "code",
   "execution_count": 40,
   "id": "37c9514c",
   "metadata": {},
   "outputs": [],
   "source": [
    "def encode_to_unified_raw(counts):\n",
    "    unified_raw = ''\n",
    "    for context, symbols in counts.items():\n",
    "        # Добавляем контекст и число символов\n",
    "        unified_raw += context\n",
    "        unified_raw += str(len(symbols))\n",
    "        # Добавляем пары (символ, частота)\n",
    "        for char, count in symbols.items():\n",
    "            unified_raw  += char\n",
    "            unified_raw += str(count)\n",
    "    return unified_raw"
   ]
  },
  {
   "cell_type": "code",
   "execution_count": 41,
   "id": "70145eff",
   "metadata": {},
   "outputs": [
    {
     "name": "stdout",
     "output_type": "stream",
     "text": [
      "   28 4633110t51b7p3\n"
     ]
    }
   ],
   "source": [
    "unified_raw = encode_to_unified_raw(counts)\n",
    "print(unified_raw[:20])"
   ]
  },
  {
   "cell_type": "markdown",
   "id": "b9862280",
   "metadata": {},
   "source": [
    "Попробуем сжать данную последовательность"
   ]
  },
  {
   "cell_type": "markdown",
   "id": "ef6374d2",
   "metadata": {},
   "source": [
    "Для сжатия возьмём lz77, реализованный в самом Питоне"
   ]
  },
  {
   "cell_type": "code",
   "execution_count": 42,
   "id": "490f67c6",
   "metadata": {},
   "outputs": [
    {
     "name": "stdout",
     "output_type": "stream",
     "text": [
      "Для хранения моделей в сжатом виде необходимо 59.41 кб\n"
     ]
    }
   ],
   "source": [
    "import zlib\n",
    "\n",
    "# Преобразуем все элементы в строки и объединяем\n",
    "bytes_data = unified_raw.encode('ASCII')\n",
    "compressed = zlib.compress(bytes_data, level=8)\n",
    "\n",
    "print(f'Для хранения моделей в сжатом виде необходимо {round(len(compressed) / 1024, 2)} кб')"
   ]
  },
  {
   "cell_type": "code",
   "execution_count": 64,
   "id": "874f8e6b",
   "metadata": {},
   "outputs": [
    {
     "data": {
      "text/plain": [
       "'   28 4633110t51b7p33m4n11q6i24d4h2\"1f3s53a32c25j1'"
      ]
     },
     "execution_count": 64,
     "metadata": {},
     "output_type": "execute_result"
    }
   ],
   "source": [
    "# 1. Декомпрессия\n",
    "decompressed_data = zlib.decompress(compressed)\n",
    "\n",
    "# 2. Декодирование в строку\n",
    "restored_str = decompressed_data.decode('ASCII')\n",
    "restored_str[:50]"
   ]
  },
  {
   "cell_type": "markdown",
   "id": "47a25fbe",
   "metadata": {},
   "source": [
    "## Представленные данные можно разбить на численные и буквенные последовательности, имея которые можно восстановить исходный марковский источник"
   ]
  },
  {
   "cell_type": "code",
   "execution_count": 44,
   "id": "300b7ca6",
   "metadata": {},
   "outputs": [
    {
     "name": "stdout",
     "output_type": "stream",
     "text": [
      "['   ', ' ', '1', 't', 'b', 'p', 'm', 'n', 'q', 'i']\n",
      "[28, 4633, 10, 51, 7, 33, 4, 11, 6, 24]\n"
     ]
    }
   ],
   "source": [
    "def split_model(counts):\n",
    "    char_sequence = []\n",
    "    num_sequence = []\n",
    "    for context, symbols in counts.items():\n",
    "        # 1. Добавляем контекст и символы в буквенную часть\n",
    "        char_sequence.append(context)\n",
    "        char_sequence.extend(symbols.keys())\n",
    "        # 2. Добавляем n_s и частоты в числовую часть\n",
    "        num_sequence.append(len(symbols))\n",
    "        num_sequence.extend(symbols.values())\n",
    "    return char_sequence, num_sequence\n",
    "\n",
    "char_sequence, num_sequence = split_model(counts)\n",
    "\n",
    "print(char_sequence[:10])\n",
    "print(num_sequence[:10])"
   ]
  },
  {
   "cell_type": "code",
   "execution_count": 45,
   "id": "7b31828e",
   "metadata": {},
   "outputs": [
    {
     "name": "stdout",
     "output_type": "stream",
     "text": [
      "34786\n",
      "34786\n"
     ]
    }
   ],
   "source": [
    "print(len(char_sequence))\n",
    "print(len(num_sequence))"
   ]
  },
  {
   "cell_type": "markdown",
   "id": "50899c26",
   "metadata": {},
   "source": [
    "### Сожмём числовую последовательность"
   ]
  },
  {
   "cell_type": "markdown",
   "id": "019928fd",
   "metadata": {},
   "source": [
    "Посмотрим на распределение чисел в num_sequence"
   ]
  },
  {
   "cell_type": "code",
   "execution_count": 10,
   "id": "89c38401",
   "metadata": {},
   "outputs": [
    {
     "name": "stdout",
     "output_type": "stream",
     "text": [
      "Максимальное число = 18302\n",
      "Минимальное число = 1\n",
      "Процент чисел, меньших 254 = 96.98%\n"
     ]
    }
   ],
   "source": [
    "print(f'Максимальное число = {max(num_sequence)}')\n",
    "print(f'Минимальное число = {min(num_sequence)}')\n",
    "\n",
    "counter = 0\n",
    "for i in num_sequence:\n",
    "    if i <= 254:\n",
    "        counter += 1\n",
    "\n",
    "print(f'Процент чисел, меньших 254 = {round(counter / len(num_sequence) * 100, 2)}%')"
   ]
  },
  {
   "cell_type": "markdown",
   "id": "449be603",
   "metadata": {},
   "source": [
    "#### Кодирование с переполнением"
   ]
  },
  {
   "cell_type": "markdown",
   "id": "314d65c3",
   "metadata": {},
   "source": [
    "То есть нам необходимо кодировать в основном маленькие числа из небольшого диапазона, для чего кодирование с переполнением отлично подходит.  \n",
    "Реализуем его по схеме из ДЗ 1.4 (<= 254 - 8 бит, >= 255 - 24 бита)"
   ]
  },
  {
   "cell_type": "code",
   "execution_count": 11,
   "id": "2a0ff970",
   "metadata": {},
   "outputs": [],
   "source": [
    "def encode_number(num):\n",
    "    result_bits = []\n",
    "\n",
    "    if num <= 254:\n",
    "        # Просто 8-битное представление\n",
    "        bits = f\"{num:08b}\"\n",
    "        result_bits.append(bits)\n",
    "    else:\n",
    "        # 11111111 префикс\n",
    "        result_bits.append(\"11111111\")\n",
    "        \n",
    "        value_to_encode = num - 255\n",
    "        \n",
    "        # Определяем число бит N в двоичном представлении числа \n",
    "        N = value_to_encode.bit_length()\n",
    "        \n",
    "        leading_zeros = 16 - N # количество ведущих нулей\n",
    "        \n",
    "        # Добавляем leading zeros\n",
    "        result_bits.append(\"0\" * leading_zeros)\n",
    "        \n",
    "        # Добавляем N битов (если N > 0)\n",
    "        if N > 0:\n",
    "            bits = f\"{value_to_encode:0{N}b}\"\n",
    "            result_bits.append(bits)\n",
    "    \n",
    "    return ''.join(result_bits)\n",
    "\n",
    "\n",
    "encoded_num_sequence = ''\n",
    "\n",
    "for num in num_sequence:\n",
    "    encoded_num_sequence += encode_number(num)"
   ]
  },
  {
   "cell_type": "code",
   "execution_count": 12,
   "id": "b37c902c",
   "metadata": {},
   "outputs": [
    {
     "name": "stdout",
     "output_type": "stream",
     "text": [
      "Длина кода фиксированной длины = 63.7 кб\n"
     ]
    }
   ],
   "source": [
    "num = 18302\n",
    "print(f'Длина кода фиксированной длины = {round(num.bit_length() * len(num_sequence) / 8 / 1024, 2)} кб')"
   ]
  },
  {
   "cell_type": "code",
   "execution_count": 13,
   "id": "fc912b76",
   "metadata": {},
   "outputs": [
    {
     "name": "stdout",
     "output_type": "stream",
     "text": [
      "Длина кода с переполнением = 36.02 кб\n"
     ]
    }
   ],
   "source": [
    "num_sequence_mem_size = round(len(encoded_num_sequence) / 8 / 1024, 2)\n",
    "print(f'Длина кода с переполнением = {num_sequence_mem_size} кб')"
   ]
  },
  {
   "cell_type": "markdown",
   "id": "deee851a",
   "metadata": {},
   "source": [
    "Можно заметить, что доля чисел <= 14 в последовательности = 70%. Поэтому попробуем другое деление:  \n",
    "4 бит для X <= 14  \n",
    "12 бит для 269 >= X >= 15  \n",
    "24 бит для X >= 270  "
   ]
  },
  {
   "cell_type": "code",
   "execution_count": 14,
   "id": "13593efa",
   "metadata": {},
   "outputs": [
    {
     "name": "stdout",
     "output_type": "stream",
     "text": [
      "28\n"
     ]
    },
    {
     "data": {
      "text/plain": [
       "'111100001101'"
      ]
     },
     "execution_count": 14,
     "metadata": {},
     "output_type": "execute_result"
    }
   ],
   "source": [
    "def encode_number(x):\n",
    "    result_bits = []\n",
    "\n",
    "    if x <= 14:\n",
    "        # 4-битное представление числа\n",
    "        bits = f\"{x:04b}\"\n",
    "        result_bits.append(bits)\n",
    "\n",
    "    elif 15 <= x <= 269:\n",
    "        result_bits.append(\"1111\")  # 4 бита\n",
    "\n",
    "        value_to_encode = x - 15\n",
    "\n",
    "        N = value_to_encode.bit_length()\n",
    "\n",
    "        leading_zeros = 8 - N\n",
    "\n",
    "        # Добавляем ведущие нули\n",
    "        result_bits.append(\"0\" * leading_zeros)\n",
    "\n",
    "        # Добавляем N бит (если N > 0)\n",
    "        if N > 0:\n",
    "            bits = f\"{value_to_encode:0{N}b}\"\n",
    "            result_bits.append(bits)\n",
    "\n",
    "    elif x >= 270:\n",
    "        result_bits.append(\"11111111\")  # 8 бит\n",
    "\n",
    "        value_to_encode = x - 255\n",
    "\n",
    "        N = value_to_encode.bit_length()\n",
    "\n",
    "        leading_zeros = 16 - N\n",
    "\n",
    "        result_bits.append(\"0\" * leading_zeros)\n",
    "\n",
    "        if N > 0:\n",
    "            bits = f\"{value_to_encode:0{N}b}\"\n",
    "            result_bits.append(bits)\n",
    "\n",
    "    else:\n",
    "        raise ValueError(\"Unsupported value X\")  # на всякий случай защита\n",
    "\n",
    "    return ''.join(result_bits)\n",
    "\n",
    "\n",
    "encoded_num_sequence_ver_2 = ''\n",
    "\n",
    "for num in num_sequence:\n",
    "    encoded_num_sequence_ver_2 += encode_number(num)\n",
    "\n",
    "print(num_sequence[0])\n",
    "encoded_num_sequence_ver_2[:12]"
   ]
  },
  {
   "cell_type": "code",
   "execution_count": 15,
   "id": "36134b0d",
   "metadata": {},
   "outputs": [
    {
     "name": "stdout",
     "output_type": "stream",
     "text": [
      "Длина кода с переполнением = 26.55 кб\n"
     ]
    }
   ],
   "source": [
    "num_sequence_mem_size = round(len(encoded_num_sequence_ver_2) / 8 / 1024, 2)\n",
    "print(f'Длина кода с переполнением = {num_sequence_mem_size} кб')"
   ]
  },
  {
   "cell_type": "markdown",
   "id": "90af3263",
   "metadata": {},
   "source": [
    "#### Кодирование дельта кодом Элиаса"
   ]
  },
  {
   "cell_type": "markdown",
   "id": "57f3509e",
   "metadata": {},
   "source": [
    "Реализация метода была взята отсюда https://github.com/keon/algorithms/blob/master/algorithms/compression/elias.py"
   ]
  },
  {
   "cell_type": "code",
   "execution_count": 20,
   "id": "5354955a",
   "metadata": {},
   "outputs": [
    {
     "data": {
      "text/plain": [
       "['110011100', '1110101001000011001', '11000010', '1101010011', '10111']"
      ]
     },
     "execution_count": 20,
     "metadata": {},
     "output_type": "execute_result"
    }
   ],
   "source": [
    "import elias\n",
    "\n",
    "delta_compressed_list = [elias.elias_delta(x) for x in num_sequence]\n",
    "\n",
    "delta_compressed_list[:5]"
   ]
  },
  {
   "cell_type": "code",
   "execution_count": 22,
   "id": "0943fc3b",
   "metadata": {},
   "outputs": [
    {
     "name": "stdout",
     "output_type": "stream",
     "text": [
      "Длина Дельта кода Элиаса = 25.18 кб\n"
     ]
    }
   ],
   "source": [
    "num_sequence_mem_size_delta = round(len(''.join(delta_compressed_list)) / 8 / 1024, 2)\n",
    "print(f'Длина Дельта кода Элиаса = {num_sequence_mem_size_delta} кб')"
   ]
  },
  {
   "cell_type": "markdown",
   "id": "a418bf5d",
   "metadata": {},
   "source": [
    "#### Кодирование кодами Фибоначчи"
   ]
  },
  {
   "cell_type": "code",
   "execution_count": 28,
   "id": "e544cf9d",
   "metadata": {},
   "outputs": [],
   "source": [
    "def fibonacci_coding(n):\n",
    "    if n == 0:\n",
    "        return \"11\"\n",
    "    \n",
    "    # Генерируем числа Фибоначчи до N\n",
    "    fib_sequence = [1, 2]\n",
    "    while fib_sequence[-1] <= n:\n",
    "        fib_sequence.append(fib_sequence[-1] + fib_sequence[-2])\n",
    "    fib_sequence = fib_sequence[:-1]  # Удаляем последний элемент\n",
    "    \n",
    "    code = ['0'] * (len(fib_sequence))\n",
    "    remainder = n\n",
    "    \n",
    "    # Проходим по числам Фибоначчи от большего к меньшему\n",
    "    for i in range(len(fib_sequence)-1, -1, -1):\n",
    "        if fib_sequence[i] <= remainder:\n",
    "            remainder -= fib_sequence[i]\n",
    "            code[i] = '1'\n",
    "    \n",
    "    # Добавляем завершающую 1\n",
    "    code.append('1')\n",
    "    \n",
    "    return ''.join(code)"
   ]
  },
  {
   "cell_type": "code",
   "execution_count": 29,
   "id": "e99873e1",
   "metadata": {},
   "outputs": [
    {
     "data": {
      "text/plain": [
       "['01010011', '0101010010001000011', '010011', '101001011', '01011']"
      ]
     },
     "execution_count": 29,
     "metadata": {},
     "output_type": "execute_result"
    }
   ],
   "source": [
    "fib_compressed_list = [fibonacci_coding(x) for x in num_sequence]\n",
    "\n",
    "fib_compressed_list[:5]"
   ]
  },
  {
   "cell_type": "code",
   "execution_count": 55,
   "id": "157c9a3a",
   "metadata": {},
   "outputs": [
    {
     "name": "stdout",
     "output_type": "stream",
     "text": [
      "Длина кода Фибоначчи = 21.13 кб\n"
     ]
    }
   ],
   "source": [
    "num_sequence_mem_size_fib = len(''.join(fib_compressed_list))\n",
    "print(f'Длина кода Фибоначчи = {round(num_sequence_mem_size_fib / 8 / 1024, 2)} кб')"
   ]
  },
  {
   "cell_type": "markdown",
   "id": "55ca2195",
   "metadata": {},
   "source": [
    "Код Фибоначчи победил"
   ]
  },
  {
   "cell_type": "markdown",
   "id": "b0937b00",
   "metadata": {},
   "source": [
    "### Сожмём последовательность символьную"
   ]
  },
  {
   "cell_type": "code",
   "execution_count": null,
   "id": "ddb31c37",
   "metadata": {},
   "outputs": [
    {
     "data": {
      "text/plain": [
       "b'    1tbpmnqidh\"fsacju23r4olegw-  17.\\n s 178\\n)17817781\\n81\\n\\n1\\n\\n \\n\\n  \\n   hit*afwsnmbkeojv123ry4g(5dcplu\"z  thrioea theiauorthe ysm\\nirtnol-,wehe cfmtslrpawqdhegobikvn\"uj\\'ye croeaihul crioeuycritbpfesmritiey thao,us.itiqoemcvznftatiquiqueaique sen.,a;lrtue opiahtsldmnwcrefu(vybe ofnbtrpulvcm of \\n,t-.fof pitwelahfscdkrjbmno\"vgyuq52( f puhrosalen purbptsnpurepsiaure ,ds\\n.rl;)-ma?re ropifbcemtunawhsdg(lvkqyje reauoi reamgric-lfsptnqvdjreastldcfmkpnreasoet yiua.,;\\n)-:asonson\\n,s. ;-a)ie?:on\\n\\noirphmatdwcebf(guslnqn\\n\\n   byueo. by \\n,by ijectamfprwsluvndoghbkqy imtnds g\\nlfr immpaiimmaoeiummanrt. b)manu yeind,k\\ns).-t;chaanuemanueld s,\\nnuel .eel kaqnue(isfwcoryhptl kani kanitkantant\\ni; hoa,e.sulnt\\n\\nhapciswefnort(mukqdlbgjt\\n\\n  trauiyeotrandhtcrvylbiomsransdgcetk\\n qnanslwc\\n- ,fi.g;hpnslaslatnlateitoua atedn svr\\nlm,.;)g-\"fted \\n.,;-?li):ned buwtmfiolqaejcrdpsnh(vg\"ykd byeoulraiy j.u j. j. m. m.eyao m. m. dbmntsf(oiwpacehlv. d.ioea d. d. mtbsfnivhpaowecg4r meitan r.,mce;d\\n?-lmeikneiklikleklejlejoejohjohnohn\\n hn\\n\\n  prauloesh preioahuprefslthvpjcdmrgrefaeluor efacfaceutiace s,d\\n.?-);*nrce towigdahmcu(bsrnpfle-vz e torehiwauy to \\nt,orgnwulp:.d-;to tephdscabruiwfmjglnkov51yq(o thiaerwoe fiaroule firentgxlcvfirsmeirst rst ,a\\niol.e-st erlaudbsopmtkinhfwcvgyjq(=t edrmnlvxsayifq ediu editefacumnoditiya\\ntionu ,)\\nc.-ion,s .-\\n;aie)?:\"on, \\n\"*n, 1ilhtoaswbcdperfg\"unmjq k, 17  huoyea humrnhumabeioumantan rautbeokghnim(sqcwpdfjvl\"yn reaiohu, instf \\ndmp)i,-rlg in ts\\ncodqvafnej,hw)igin otemrvfiawspuhcblgndqyjk(n onftrubpvc mls one l)\\nc,t.ws-one s\\n.d,rno;-y?)\\'mne swonmarthikcpebjdfq(ugvle spacohuiteywlskm spheaiorlusphephernhere ;\\ntsw,.-i)?\\'r:oere ind.flc,r\\nasb-o;twuf itnlsm d\\ngr its \\n.,?-:);\"its \\ne,.)-?ts coihwapvesmubd(frtqnlkgjys coaelrhiu cognmusl-rpbevhiadcogniogniaognitzf nanitiyuesz a-, is \\n,.o-m;:ltsis cdwutsgianrmopbfje(qklhvy=\" calnsurpmetcall )\\n,c.;-o:emalles y;ao\\n,-ui.?gh)lledngxcsrlaled ,g-\\n.d upnstl upo, .\\n;hwruponpon d\\net,.;-son tosahmnuefrbiglcdwp(v71j \"=qkn tohrwiaeuto\\nctsdmreaphoifglwubjvn\"k\\no\\ncolharu\\ncongmlures-consdftjcvn ogqeonsi,. te;-\\nhc?o:)\"unsidogbsvctsideiidersna d\\n),.l;der st\\na,nfeim.-g\\';ver qhaicogtewdsmpbyfrul(n751kvj\\'r qu queiaouest sc,estiesar \\nhol.;,y-):stiontgclmbafvsns, \\n*\"s, wiftsnlvahubcodpemryg\"j3, whaieor whieoaywhiclhichasl .u\\nich ,\\ne-och icatnehrwmsfbdgolpu(qjykvh itnml s\\ndfit cfrqtiewhposdumbalng(vkjt caorhelicann \\nt,d?oceannoeiunnotcunot \\nh,i;w-.e?a)ot dabgetilmrfncpsohykwj\"uqvt deiorwuay decestmdlvfapnrgb \\nideclaeiroecliauclinlinegdakqine, sd;.\\nvqrxna)\"-fne, \\n\"e, abitwhedonrlscvfpgyumq\"kj, asntlc grfpim\\ndbe,uvxw as \\nscpk.,:ihtas tafimgswobdrehnplycuvqj(ks thiorwaeuhey \\n,ey atcmprobhwdlfsige(nky ar ln\\nfmtbdspgcvuwi areibtgrmcodare ,n\\ndrf-s.):le proieauhlsrese tp,shu.ci)\\noa;esen r\\n,tm).s-lesentsc .egdente ,\\ni*las.ou;r-):\"?\\'hmntedsmrnlcexed\\nbtifowpeanmsrcld(uhvd\\nbyeor\\nby s owfnurbtpcv,msl ownieown .\\nef,)w-;swn nmfdetpa=lbrisuowcghjkn naoeiu  natmyruknatuietoaaturmistturenayib \\nre, \\n*\", bueyraol,  butsirnlbut ,e\\n-is:ut waidltofnmrespcbkhuq(v\"gt whaeoirt an tlc\\nrfupbdsgw,vim ansyd ct,oa\\nnig;xnsweswerlwer,e\\ns. liaf:;-er, \\n\"r, aibtfhowcmnslerpyugd\"jvy trhoaeiwunsceirscenplr cendtcsend ile\\n?su.,ao;\"-)nd etsmcfiorandbpwuhlvyqgj(\"1zkd evfxmdlnsqtiary eveaioevernl -s.d\\na,very s,net\\nbl)c.-a;uigfery\\n tw,.bdry\\nfkcosdqwaerhputgm\\ninbly\\nfaoriu\\nfacnrulvisacultucultaioepculty is\\n.,a;luelty ,\\n;.-:ty owvatihmbrnf(cpds e-ulgjqy ofnrwcutbvpmf thoiwraee miaouye mingslxdrchmindiaegouind.s ie;u,\\n)?r\\'l-n:oynd.\\n \"d.\\n\\nibnfwclst.\\n\\n a  it n.isvfdmt fairoeul falursmcnvtifallslls ,.\\nls iotwuhbfaenrscs ints mfd.\\nrglintoersa uy-,.\\n\"m;into \\nr,ml-tthisnrczhis ,\\nt.:-mi;s dioeuary difsordavmgcediffiyiffiefficrxnficuie \\nat.iculsrimy wiahoe witlsdncwith,n-itho ei\\n.m,ds-;thousdrlhoutglsout s\\nh,w.lb-eany \\nt.,i-wny fshlrdaepocwntimjgkb(vquy faeorliufaulaultlt oaitsnwufmbt ofturpnbcvwn. \\n*n. itbefahldwscomynpurj. itn f\\ndimsit\\nbpidhwmtoesrncafvuglt\\nbeylaou\\nbegcs yefniqlt)a,begi aueginostgins,g a\\nen).;*ins uti\\ne,o.;:-cans wnoatihmesudrb(pg\"fcl qvys wiaheorth piatsrcwemghlyobdnuvjf(kqh prahluseoprinmosvlzeuadtgrincegsakincioetlharuncipelntdfavbcipliaripleiplest -,xa\\ndr;:m).nles, s.t\\n-:);?ces, \\n\"h caolheriut beauyrol, be ce\\niyfalgstqn,h;r.-):be dtiasrpehfmlbvgcujnwokqe dieaourydispctugsfarijqmelispeuloraspencarlepensnd e,i\\n.ltense.ia u,\");\\n-onsed qs.,)pc\\n-mr;tnealsed ,\\nl;u.-:nd wihoearfieldsrieldeld ,o.\\nsld onwbtafhsrimdgelpcyq(uvkd ofrtnpbuvc mof\\nehatlmpcigrosnwvk\\nbudjq\"f(f\\nexslmavinr\\nexpaechitexpeloraxpercdperimsfal ctpnevh\\n,db;erieosazmvnt.clriendsftgrienctdenceyloirhnce,. \\nsmr;pdai-)f?*nce, \\n\"and ,\\niaos-el).p:d thoriaweutrutseclmdgruthiuauth o-,s?\\n.;afreh anr stdlbc\\nfipmg)ud suecyotaikphm sufscrbpdmgniasuffuffi eicieosatpuizciensdtrncy \\n,.-cy otwiacflmf wheaoi at t\\nh,oat tcfoplwivdajnruheskmbg\"7q(yt thioarewu samctyikfvgdlwpsameame\\n, )nld.-t;sme\\ntoecu(asdbipmwrfvnge\\ntiohaewr\\ntimlttimeaoiime, \\nsd;n.-)r\"?vme, \\n\"nsurfosaciplesurepvdrmfaired n\\n;,eu.-il:\"y exsmnarivglpfqy expuieatch. ce. \\n*\"e. wbptaifnehoskjm(gcdu\"r23l. wiheh throiweahesei t,;se pntwedfoiacusrlbgm(qhvjes iwtosbanmfplurc(ehqdjgvykt rieoau risgcdvprise,o tmikp)?hdyises n\\nl,d.r;-?mases,. s\\n:;-?)tin\\nobmntcraegfisul\\nwjhqp(dkvn\\nobfrpnuct\\nobejstvlnobedybedi, ;diens ,e laieoyu lawtnsbyierpmdulaws. ,\\nl-;gaws .,\\n;u-:?ws otwabnup(divcsfher, torhauiweo evxnsalcmrfq,tr hieaouy higtsmndahighighe twlghersdr anstg ec\\nlbdiwurxpfmd moeyaui morudtscvmnomorepatyrore\\n, th;voaigs)m:-.?re\\nrgbnstpaouiecmvlq\\nd(jwfhe\\nreaoui\\nremcgfjavqplsndremoaie.,s bemotvnrcmotehiutote nds-,\\nrte codaitjpswrveubnflgm (qhk=ondi leu,\\ns;.-rnditnfscurvxm, ns. .\\n\"*s. b[ntmfiaswdochejuy(lp\" r423g. bueyot itsn m\\nfdl,t ququicrtsdvbelpuickickl ecklykly ly dbfnetoicpawhsglrjmuv=qk(\"yy dieoryauiscoueilrahscovrnpcoveover dms\\nl,-.;ners itu;.\\ne,ayo)p:?-rs tmiorufnecwa(spbdhlthatnlrhat, e-\\n.s;at, \\nt, ihuaswolmnctbedfvpygrq\"j k waysrtnivlxway,s \\n.-;ay, \\ny, isabdeotmwfnhpu\"gclqyrvjts\\nluasobpftnw\\ncirdm(ehgs\\nlaeio\\nlabtrwmsnylabolabourvlndbourntours.nc -i,e\\ntafy;urs eiuo,\\n.;s mueayio, muscltnmustei ust .\\nrie,a-lowfemaitrn. ,)\\nmainrain l\\n,estimd.b);a:-n evxnsflmaigrtpdcqyr intm sglf.dirvncomrungcompmebifomplearot umpleoayiletei yhete, nrl\\ncdx.;te, \\n*\"becaokecaumypdlcaustausetaiuse \\ns,hmd.-fl\"n);?:e neoaui newvciegsaxunew \\net,ew qotpldmirwscafnevkg(hw qus neoauneveir celoarhiu cearlnceaslnbase\\nl, d.s-;se\\ntqcbiudrofljansmpgwh(e\\n\\nto uptwog,liro prehuoailsnt tebofacwiphskmuvlndrg(qyjhemsa\\n ,.i;-e\")m?emse, \\n;.mselselvfeyd ,elvelvesd .,r\\nves;, t.\\n?)-ses; \\ns; abtfwpc(ionrshume; ansml r\\nthusmhus \\n,:.-us iftomabedhcwsrvnplu(gqjfindaeignds ,\\n;.t-)?:ds itocaugwfsnbehrdlpjmtseltelf -,.\\n;?):ialf ctpsaile(uwbdofrnmghf cohrealimpelndrtpell seelle -,i.a\\n)guso haeuoiy havtdpsblnrizhaveiave\\n ,lndsrove\\nrcsakiobvedtpn\\njfqwlmuh(recoetilkauecoumnrglcourlnprse l,ds\\nn.-);regiaourngionuf exvramlsiqfntpchileoas;u\\n dile\\nds in,m)gle\\ntmifsobaprjeuc\\ndn(wglhk\\ntheoaiuregarntclgardt ardes i-\\nnl,.rdedrnded ,u\\n\".;l):-y colhearuiommoueaimmonrvmon esgyotli,\\nan sehouitpaycs sentelcamrvpgdq, y-.i)e wiahoeristrse aoi,u\\n;.-struoaieyrust ist. \\n\"t. iatoewnfschlbgpms faoriueonfueiolrnfustfusieausionvbcsionl)c gn anbr ctlsmdp\\nwif;,ugexvd colaheriuontreiah ontraoiyueradiuodaeadicnslaudict aeuihictioe \\nlsuan,.ctiocvnbt),sf, froaiue froeiuafromnrom i\\n;po,aom wtiaebofcpgs(m\"drhnu0lzykm whiaoeonjeuonjecjectectu-,e isal\\nn.o;?\\'):y\"cturamce\\noatwfvibmsnc\\ndr(pee\\nofbntrcuplm\\nof ftf laioetents daec,\\ni. erreaerroaeiu, rrorwgnburors.,- ;\\nors,a\\n? e.rs, \\nch, \\nh, hbwiatmsdyocfnqerulpj, hoeaiuy howpulmrsnvhowe si?.n,\\n-owevrds weves unlsrpt unadicvlbfwpnksgtmuqerohjunabvldtnucrswenabliableiyble m,?\\nd.;:s)-\"nle toailpnecumswbdfghr(jqkvo dieorua empbieempltioeuployrloysmi e,\\n;oys, \\nys, dingaing ,-l.\"\\nuse;)i:n?\\'dng tinlmdhwfebacpsorugv(qj=kyg thoaiewr limkvgbtesfnaqclimiembpimitlncdmitsa .,teyi\\ne,\\ncsawihmbrtp\\nndulfogey,\\ncaoh\\ncanutrlsp tesnrclamxdtest ,\\n;ym.)i?-stedmarpn. ,e\\niterd \\n,cms)l.;-?teri,tn mefrso;a)lw-.\\npbyvc!rionurds,on. \\n*\". thoriawe ardn sgbuiltcwpmfe\\nvxrenatcdgeouena nb,;l.\\n-t)cna otsicpawfmnehbdr(uga ofnre enxfrsagmqlvyipcdut endtoglcasuijendleydles ;\\ness\\n.a ;ei,of?n)-luss\\ncaohute5rvi\\nmbds\\ncoreahliusts ,-.\\n?)\";metahri e\\nsetapmli ,tbc;taphaphyasephys ,.;\\n-hysiysicosnsic.sa io,ic.\\n *)c.\\n\\n timtbleme wtofbsnaipcmreq(vhludgykjwas, t\\nas, \\n\"whentrhen os\\nc,diten socmtiheaufprgwbkvlndq(jy sheoaiushe ds\\n,e quueeneen \\n,;-f al in\\nrsmcwtbpd;gvfx alltosmwriegall tfbmidapunwkrchsoejlgyqv(l thoaire scieharoscieotrpces; ,s.\\n?)-:tind, \\n*\"d, ismpabftewconrdhlygquj\"k if ,\\n-if wtmdihsacognbpreulfy we\\na lri,bewe\\ntfardbcpwmshekniog\\ntaksnlbtakeiaake ns\\n,)r.dke tunboiarpjhmsgcfev(wwilldill \\nu,;i)sa.e-yfl foaieulr forulgosfor lsmte\\n,dcwbgor teuaiodlpwrhsgbmfync(jqv\"kr thoeairwudeedpmeed, e\\n.soifled, \\n\"i, shomueyitlpsaccertenovertaioye, hls\\nu.rtaink ltainlinlynly \\n,:-.desepc,ti .;\\n)-:servita \\nerveiaurves ydr,\\nn.i so n-uvlmo,c;f\\nr.peaso fmbdctsvloaehpwirgunq(o fauoriefar \\n,tear ascfrtpuindembwgjlkhoas\\nrtpobaedilcfsngwum\\nqkvhs\\nreuards ,\\n.e hioeauygh iotpaewrcnlmsbghuqfdvimpolaerusmporstunwportaeortas.e iu,h;ntancdtseganceihyf heiuayo hera l\\nntis-muwr obfrctnuwpvms objnsvlteobjebjecct-m t-ma-matmattriuheaattearltternmsdtitluiyaehitletle d,s\\n-.tmyf\\nhoeiua\\nhonlwpumsrbhonoeonoupmgstnourgnmsur. \\nr. niftbsawceomhdgpr. noea nowmt unr\\n.evbo,now, l\\nniha.s;-?ow, \\nw, iatrofhclbnsuwjpgefashtashiel ,.shiopnefhionkheaprvtdleap \\nei,oap cftp cotempsa ,e.\\n;mpt i.e,sy\\nu;oapt aftsiobmweupnd\\nstpdhcriawoemnuygbfv\\njqk4d\\nsceutohypai\\nscoiheacornrdporn ern uatofwhmdisqpnrjebn upsntln heoyiauer; \\nr; awbitofneh matxndyikgsrjzclatrotrondyvs\\nuglron goetn moyaiuemoursnurnsei .trns, ?\\norlodrlorolornied foriulaersaklr;-)t\\nsakeken, ;e\\nl.i-en, \\n, lieoaylikeike\\n .wske\\nhtimoakpeynce\\nheuaioy\\nhecranls tihecukecubrtlmncubaiuba:lba:\\na:\\n\\n:\\n\\n   moaeymodoeiauodo xldo mntcwspryibaokeo mauyeoi, maxiaximosxima\\ns ui,ima cltgrb)ndma roiwfaca reiaouhreru,. so\\nerumsrum,e) ;.\\nnum,\\n \";m,\\n\\nsoavptbhwnim,\\n\\n tot alouyhit geiorua gentorgeneductieneraswoftdimneria, g);\\nt.s-?:vmis, \\n, naoeu,atisovcnrei zfbatisqtmfe)\\na ,isqusqueai potpwsirlvmonpoteihs......\\n. \"..\\n\\n  nuoiae nunmlgnuncunc ehotiarnc tc trohrahoahorhor io\\'t,se\\n.r exmnvyalrfqpgsitexulsxul,ul, \\n\"l, iwosmrabtecpnyf\"jhdlukginoprmunopsoops. ps.*s.*\\n .*\\n\\nibt*\\n\\n i  *owpits\"ajm[ldghcnfb *ovb*oviovidnsvid,e i\\nuid, \\n, meuoayitamopamornuorphourphoyiphoslhosetoses \\nd;.,nlr:?es. \\n*\". [xs [xi[xiixiiiiii,. ii, i, \"btoinwhasldyevcmpufr, \"baetispqncwyh \"buoe\"butt laeioy pinctelopinnigeinnaouiennactbmnaclcteyaclecle a\\ns,m?-f fareoiufameoi,\\nstecouyip\\nstreuaioong e)\\n-is,?.raug intsmgl d my s\\nmy mcpotisraejvdkh(bwnugy maeuiyoy soeachutpiymkow etrfnmiolswabcug\"phd(vyjw exvaifsexilstoxilei, peluraoh, penrcaotenninnilhnnile ass.\"\\n s.\"]\\n .\"]\\n\"]\\n\\n]\\n\\n   ats gncfpmlx.rst, \\n\"r goraeiu gov,eod i-\\nna;tlgoveernma esi\\nornmenmenmentoa, cs.i-d\\nnt, \\n, unrpbsunde\\n as,.iolwnru;nderdenvfapbtsmclu admvdaoh e\\njadmiodminstrxinisnotmnisthm. )\\nc,ratiehuahe\\ndlhsmetcpivognkafuwb\"rqj\\ne\\ndoiaeury\\ndogenc ,lwmudogm ogmagmat.;s,ts, \\n\"s anflr\\ngs tpcdubmixwve absoblariuyabsoetubsolrsoluveiaoolutmsbnluteiaute sld\\n,n-.;espoeuiaspotnrskotiscovnism.,- s\\';)o:a\\n*ism. \\n*ut, \\n legavsfntdilegiaegislmt)islaeitiveaiuive\\ns ndrl,;.)-\"e\\ncoahreluntinrqsfoavctgl)meutinuegcay oinueaotiuued ,;)o sheoactukpmyislshowurlow trhoaracetkiyl barcslndtbarbire arbairbarlariclnsaotezuwric aheit,kic rtwep(cmohiasfjguvldqc rue rulinsdruleyule,s .\\n;:-n)rle, \\n\"mpirnopireiaire\\nlcsm d,-:r.e\\ngreoiau\\ngraoegradmnpftvscaduadualtuall\\n )i.s,\";-lly ,\\n.;)-y breoyluia broieaubrokuarokeoke d?.ne upsntrlup, p, aiubqotyd in tsm\\nfd,lwarsendrm .kars \\n,:-;.ihrodu.oducsducetiauced -ms\\n.ced u\\ne,)i.reigneignhign tso;iae\\n-.,*gn otpwhcviaf\\nanl psgcdrbt\\nanadsy ntcioganartlsenarcryiarchearchyi ,eachy;hy; \\ny; wamiotfbnp23; wheicepteptia se\\nhu,pticoanvbtticsai\\n ,eu-)\"l.;*ics, .\\n-);?cs, \\nnomaeiyomadinltrmadienvtribevkcanmfuribeuilaibesrd\\n t.,bes,ite. who lms\\n,ho hpuasdlcrwmtikofebj a pskctfdnwgrlbjmhuqiva=y-oza peoruahsliermaie ,\\ns.)ormanltbrcaneno,irat. snentcest\\nhayoie\\nhabvnsdrphabilabitldbitar is\\ne,u.yitat,lbs n)rtatieoausett .\\n-s,ettleyittleiode ris,l\\n-de otaurimnwefcbsdg(phlivieivinlostdazvingcdeing, \\n\"g, atowefivbscyumhnjpd\"lttacitacklhtacke -w\\nn,.sicked. ,rnked ,:.m tihowrhad \\noad obetanhcipsdlmfruw org i\\nd,ab:orgaerganganit ucos,aniztsfcenmnizeaiized, sn\\n.;?zed ,.\\no ciolaheur civrtccivievil sie\\nil coat1rhipmnlswel colairhemmunmtmunied,unitfnvocslm\\ntiesndies., t\\n:-;)?heirgstaeir\\n ir\\nnscivratbopfmeldjr\\nnuaoe\\nnumnumbe,.) umbel .mberlnber tgske\\n,a;.-ur waoheir, veiao versnlhgtry htmoincfrsalwvudpebj(gqzky haieuoyhappteshiappielayroppilnpily, glaily, \\n?);-.ly, \\n smaoesmaln ymall \\ni,.ysell; l; asticwb(ofmould, \\n.-sl)uld \\n,d noieau \\ntireaprelyuaie ely\\n ,)-;.ly\\nptdeiwolsrachfqbnmuv\\ngk\"y\\npuorehal\\nputrbpnput eatisa stceiuyhpoaqmwk stoyraiuestopowtrnmictop pi;,sop thioap tohexermcsdxertcrtiotcauevnfb,srsisvueoftmsist .,\\n-);* raitpnswdrycvraisngaisieisintbovssingcevtk)g neoaew\\nemto(psnidw\\nedvxml\\nediificeices\\n :;.l,n-bardaltheo usltho youghugh tn\\n,log:e-h onfbutcrpvno skvidlpcoermanhfutgwqbjr unsptnifoieyiforlorm ,siea.\\nu)-yl;rm patbi\"fomlwus(gdnqcverm plrusahoe plaeuplanicytuslan.gac e,t\\ndsan. \\n\"ecensidp mes\\n ,.\"t;es\\ntweansfocil\\nu(mpbdrs\\nthoiraehopeoiope sr,-ndal.?\\npe dotfnaiswh dawrtnvydawnawne .\\n,-wnedsned ,\\n.);-u? us e\\n.,u;i?-taf secpoiktuayhmseei kmn,.\\nseeineings .,\\n)-hsputnrs seotcuyhipame\\nleoai\\nlegantisfgitiaomacyhoacy )\\n-. claeouclairsylaimndaims .e,\\na-ims -,e?\\n.;ms etsfwaoinmd(pgruvchls esxnayvlmfqitrgd estscpstabnlgihrctkymtabliaubliscnvgmtlishtms) ,.;*ishe m\\ni;a,.-hed .,-;\\na kina kinkindg phyiaetioloeaologunlogyiuoogy .,;-\\n):?gy owtihasbcrd\\nhumnng- s\\ncdbpg- thacifenwmorg- thoiwercelelyelebsmgvcyanodlebrebrabratnci,d loiea locngsotuqwlockaocke-s ike. \"\\nfounrgoundctgsd\\nthowierat- t- awitcgohnbpsmfle- alsn t\\ncb)rmfpdi afftoaffieoairmelsa n,i\\n?rmedrsmed ,i\\ny.;so-c o-ca-calrsd qun coaheilurot\\nraibvhuspdoktecmwnfjyglt\\nreaefercnfer eira,s\\n.r deoaiuyresceairo antd rblgsc\\npfwvx.,iuer sotuiepychamwsournlgurcerce ispl,d;)\\n.han g\\ndctik,a,\\na lntsgbcrfp\\na cmfhsptnvbdlrgqwja ciarolehucirceirculrcumlicums ubfumst cpmstah neao necetssartgybnisariyrcrily lrougnsbdtght .;,\\niesl)\"-:yfnht sbiotamwrckeudlfpn(vh=gt sutaehoipcwykmsuspetc \\n),;uspiespicrtnspicik u,atcionus ms- \\ns- atenimwsf\"bpcohjruys gerioaunealrtnealoile ,\\nsm\".)t-;alognruorreiouyrrecmsndlpfct, \\n\"advaieodvanvancticemeemendl \\nmri;,ssovegntynty. ,;-ty. \\n*y. tafrnihbosc(wpuecs nahemcowt(pifbdrs feletwacfellytl baeoyulbackock ioueftwbpak in st.imo\\nthaoriequatlmcrn eiuateiod angstl pbcridf\\nmux.vd roeauih rotyauobscmrotteouotteonstia re\\n,itutdelsmatutieutioclnefvf doieuary dog une,m\\ncwv.)o;li?sm, \\nm, atiwbsofcpunrmedhl agaerogagaincbgainn\\nbeyourcameobnobnoxnoxioxiomcxioum)iousrous \\neln-,?;.)ah efvxqamndr usptl effeffoeifforrts ,;\\n.)-:s haeiyoubeenade rqd,.)n\\nm-;o\\nsauioechtyp\\nsavtmiylfkcrsaveve ibthnasrfovpdmlwcuegjk(y qe itns lf\\nmvgdrit. \\n\". atsbn\\n grmclfpx,t prhuoaelil meoauyiethoeihods ,.\\ni;oods, ds, \\n accqtuhkiraaccoieurccormuordise,a \\n).rdintae geroiulaeraltb.d,s rnm-;cral\\nl ,io;s.)-nal\\npajesumoitcrlb\\ndfgw(hvnqkl\\nperhosua\\npercrsuaiesuasldvuasiasiosvlndae beuyaor ,ilied :,);.\\n-n vaie.o vairlncgsvainlin, \\ngns ,.\\n;wearklpeari sne.\\nla-,d;c\"t)rnesst icp.\\n,es\\nants rclfpgbdmvxffercnsm- m- taismowothei, \\n.-) chaioechaonprlismbhaosaos os a niglhnighsme\\nscupaeoltyhimtifiuyc woihea worunloworldktsnmrld, .;-)\\ns?ld, \\nof, \\nf, oisabtmhfnwecjplru, orbnpfuvtwclmleasrdvp ,bast\\n, fiel.r)so-yst\\ntralpsechnbwuvifdokmgt\\nthaoeireludcsludeiude ,d.ns\\n;-to, \\no, twiboamfduphcnyere-c \\ne-cro-crecreadtemeati emhs,lo\\n.u)ntall o\\n-s,iek.;\")llatcr,n ,\\nwhoeia\\nwheiaoyn itnsf m\\n.ildcrvxgt haieouyhas \\n,tmlen gtcd;esobscetbscuscurscuriestra uvouritnefosdity, .;?\\n-)\"\\':ty, \\n\"d dieouaryisusnam ilnts \\nmdg? illll\\ndstancb\\niwrfeopghjmll\\ndieo\\ndirsdfvmaglcdirectedrsrt.\\n t.\\n\\notfihbspalmk  forialitdslnzfavklitytaiey vaioeprofpnabvgmdocljxushtrofeouiofesfesstss itaonmbfwsdcl234567891he(guprjrd twboafniudpsmrcehkq\\nsucbmprgsflsuchcuch ,.\\ns;e)-i?inqunquieauiriyeiriecntact osuihtjadmfwbce(prgnlk}vy.\\nb\\nsfmwtane.\\nbeuoesidrsgtanlreteuoriath cs,r muayeiomuchmay \\n,)-.ay tsochbwrupnmalejdif\"vqkgtry i-.,;o\\ndieaoisgusguiguisdtlnuiseihs byeiouar lassu aoie.,;\\nmssumrsesump-ei s\\nm\"umptihpopuopulpulasulart e\\ns)lar agil,\\neys;.)mstyl \\ntyleyle .,by\\ncmtwsaneorpvildbfy\\nchoraei\\nchaoieangeulingesrad n,\\n.;m)\"-ges .,t\\n-;)nguaileguagruageage ,sd\\no-n;.*mge owibarvhm\"ntfd(uspclegschoeichoolsitrhoolsdftoolsm,.) ools, \\n-ls, navoaavoiuwvoidcoidae ,\\n;.)?idabcntdablibly ,\\n.l instdml go\\nmeauyo\\nmet;ndar,cme icalbt \\nmn,eral daistpbocflwnreuvmgh(kjql deiaouraratcnlbdgd pruhloeasiropoeiars oposlrumneposisetuositnqsitiy eoausy prouealho\\nreioh sohapueyticmpt. *h haieoyuh reiaouelatbpnyat\\nkteaipowqhlcdsngbv\\nfrumt\\nkin\\nkinf kn knoeknowtowleywledsedgedge m,.s;:-\\ndh wehiaorwe svmcerhfdlapoktbnugwjiwishetdsh taupivfmlorwcbehsee dauhftsilwomc(rgkbepvroye ais\\noyedyed .\\n-,;?lasths  a\\npcntbsrljfwmkqhduvg\\na\\nphrueoali\\npheyiaenomnuwt omen wst\\n,dor?non -,\\n;.e)?yswellvcf ourgtur amcwnhktrpgfoudisej(vblqefleyflecxlectuis\\npstcwidhvbraoequfmgnlkj\\n(s\\nplroaehu\\nplaeuy noaeufectulevieaoevitadoelcsnvityaeid ju judsmgrnjudgiudgeigeme nt* t* ot* ofrf\\nthirowge, \\nefuslto beouyraly loeaiulongesger om\\ns-aie,llusrmlusoit ,usorsorystb.ri ory\\n. ,);y\\nknei\\nknon fareouilact,i)o enu\\nsl.?ao reuioao unspte\\nmoeiauy\\nmosvrmdotnbumost)ost \\ne,pu;iah.lboriatrndoriotg\\n s,.l-\";acezn):?b tasklubntaskty\\n ,)asks .,e\\ni:sks-ks- lf-ec dsiapkrgf-exv-exaiexamcgnxamipamincdlinatlbdrsncpon- eps\\nbcain- atwmei\"sopnhflbcydgo\\nesnmxavlr\\nestpsca trawhioeibuntlsbunadgnal, l.yo\\nti);-al, \\n\"*h maoiyue.secuotrll-gdkei sfpbml-gr-grogroupwsms,\\n s,\\nwpamvbnthicredsojlfu\\nbasei d\\npraehlos\\npreoiarbitdaitrairaryieary ,\\n;.i:-)?nnercxto itnrmld sg\\nwn\\nepnscitfarlun\\netaxvmlrnif\\netechrnaltl ansrp tcmdlefg\\nxiwbnchae iogeabeabliws. \"\\nhingk d,\\nteg leaoian\\ntkeshorambinfcuwpdljn\\nthairowinveaoinvesnryitigauigatgatieon.\\n\\nstbficnmhewrvu *weh*we e veiaooftenftenrnts ;,.\\n-):?shalpkrmbdhallfevllowyg) lowne; ,si)\\na.:t\\nagurnt lpsfmecbv\\nageagrcay ofoul i dfhmstcpkbawlerngi(oju-i doiero noaeuiink sie\\n.\",nk tifwpaomusbk thot upnstndatrmln)edatiaueathe-s ,a;o.)\\ni,\\nphroluel sctupoeyhiamk, etxvs.ianmlurq etc ehetc.htc.,- ;)\\n\"c., ., itacwmsofbs reaiuorepraluoeteproeiroacdmoacheach,e i\\n;h.y raeuiontailgtrns.\\n ,mb)cir apomscirtdefvwnbuhgljqycaseituhse,\\n \",\\ninft slrm\\nind sntcqaevhfwjiurpaorerpastpasstwoul other\\nktsahobwimpcrudf(elgvyjr\\nkinr prloeuahirmlyemly -,\\ned.\\n )\"*.\\nintf bsenrq, doiuera,doubroubtlubt,s rle.\\nif;bt, \\ny,\\nsaotewci\"bmg\\nnrhup\\nsevecpnrqlt.sevecismeitsm aoirwtmhlpbcsgdnu(m ar tnls\\nfpbcg,dmu signmztd lxesignhd haoieuyht.\\n .\\noufn\\nourtgo wheiaorythythieg muoeiyabe\\nsieragdcvqphtnolmfuwbjsubjstmdolavr-ubjeosacrhacreioednednesf reaiuheligvenmsauoligiheaigionbd autgxauthyiof\\nleoi groeaxempe\\nexanfsmlqpgvdial. \\n\"l. btiwfh\"amospnejurptedrd,\\ntmibonrcwas\"fup,\\nthoriects ;,.\\n-)?f juojustlay e,s\\ni.im tiobpfwnacrmue(\\nsingdmpectuionlytood,)k \\n.?ood -.,\\n)nlod twchefoamiubs(dngp\\ntesarnlmca fruiaoelfreesqree k,;.d\\n-smzfalppublublieuylic ei\\n.atc exmdnlt meauyoimeansean s,i\\nwten byeouar\\nlim oftnuprbvf boleuryi a boolautdrsnbookooks ie\\n;,oks ,ks arwfoitmhbpud sysnlmsystystes,ia\\ncraoelhi\\ncriyeoiry .,;riveiaon wihoera aidmraid ,\\n)s:id ofmuebtisapnhrcwjgce; \\ne; iawsfobtc(lenuhpj2; in tfe\\npoularehsi\\nposiwrplossi, e\\nl-ssibtopsnmvgdsibilibil tnbilieilitnasubzf meyaoiudeterarmintdsrigihoexteri, .\\nxtenre.\\na\\ntfboiwnhsr.\\nalnscp fxr\\nalltowsrkmgdone si\\'s.\\n\\nutcifa(bs\"nwperhmds paeuorlhis patsrgliyuppatheioth- \\nh- tasdi\"rww reaoningft- haeoiy\\nmeuioame; \\ni floier flaoiuflatsmmysetysel ,dsi haoeve, \\n*of- f- awnigtsequequeiauentcsdntlyetly \\n,).-moviears\\nwdisptobfs\\nwhoieahitherto r,et rtbnahscuedwifomlpqt vaeivariyrianlb ,d\\ntgiancsg\\n t,-lf, \\n\\nspheaouif noaeun-emxg-empbeturasmrneds r)yevastdlivasitsiver\\ntohrawieltiemvtpnnd; d; ifabstwncjory, \\n\"em\\ncfgetmswioaupm\\ncoaetelyleafte avindtog dioerbts .,\\nll,\\n \"l,\\nhdtcaisbwfm\\nneo,\\nhaoeyiolveived .-,\\n;)em tomrafiwcbynsuh(edplerfeuoilrfecrsatieuisfaiyosfacrue, \\n);-.dnsue, \\ne\\nqu\\nqueias vaueoifancatd\\ndeiora\\ndesctrmpfnldgavesireoiaed; \\n; foirsfiegercieohrcisunobf\\nmaeyuoi\\nmagtdkyinrsxmagineagicnogica ,.-i\\narts ie-.l,hm)\\nyuo kneige. \"\\n*t neaouneiteithy,f .mpasrintf oufnbtrp,vcll poruahselpowers; \\n dutrelmcdutyiuty ,-\\nf\\nphareoulphilcsbzeilosd lososeitosopmsophophyiehy tias(ohpwemcdbfoy tibeanwmocsn\\nmieuayo\\nmisnlgrmiscestaulihrfoonceroliawhattevedarldkieyarliyrlineg hoeaipes ,.td vaeiovaluie ;,aluelued n,.\\nsl;ctatcnb ,ay\\nbopwnecfsathirdy\\nbearyruintuinegosxplaiochientmc-vlhiefvlsief ,l.;\\n?ef a(iosetmhpork .,-i\\nsrk hai(fwtomk haoen\\ntwaeicbsmrojpq(duhgoroughnehnesss; i maueyimakeiboldiy.asold es\\n-,i;.)n:lsay ,.:i-s\\nngleygle\\n d.,)scr-robl aoib\\nobleilem se.,;am:i-\\ndoesoes \\n.,e keni keyepkey sre. \\n. puhraoety; \\neforlroveiae\\nindmlst grven tl\\n.;,i-:e)n gioaeur givfgivei birdnbirtirthuerth,e lpy\\n)c.;s-?rith, \\nrejeuejecit, \\n\"ctlycy\\nitasoy\\ninmstdrs.\\n *  wheii saehyoupci threoaunte .,ias)r\\nhnancisteeade iys\\n,r\\nsioucyeptaissaie. o,upt, s\\ndeiorboasoaststfutfulful fln.\\n,;ul anitrwso(bcfuepmdlxtraeiravaeiavagi vagauent; \\nt; aiwyhtf(bsoc2ejd yeo yetasyet ,\\ne\\nbeauoyrlbeyo ieyonyondparitaeksisonsl\\nautgrogreaograeramm epu,iammeamme,dnrassesdntrcm l,.demoau)enisimpiuaoor\\ntwrsaidglecjmbuo\\npvnhfrimaeibeinng. \\n*\"g. sbitdonfmlhawrcy(p. suthpeosyca doieyuraomisznteacd\\nhuaeoyn kniaibley i\\nhvamrtucseopndfkwi\\nhuamblyaeinfesrer. \\n.*\"teadcrny\\nsowpdbamnhigcfket\\nry\\nsuaeypcotihi coualenfinrdtne\\nathrpiofcmswendbe\\nan tbpsgdrvwiflcuht; needeek .si,\\nek ftaoik faorr forauieum-t m-to-tototaltl ofrbnutcpmseatr,\\ns, coaehl,run loeiayuogicastezc prhsaoic\\ncedmsptawioruc\\ncaeocataieht,ataln -e),\\n.g;oguegue \\ns opeipton; \\nn; aitbfopcsmnw3hjsk taofewicbrhpo\\nanilp edcsbtvfw faroiur reauigo, \\nial\\n lie,s). furltnfurntrniscntb  souseiyhch foalruixecucutie tsk. k. thinabefoi\\narberictgof\\ncoaehrilf.\\n *f.\\n\\nbtpbovemarkyicruarks. a,\\ne)in:rks .,\\nry. \\n\"*rm, \\n twoeitwo \\nf-;r,wo itcdhsmrapefbjownqgklnsabtfsably\\nonftpbcru\\nonel ct,kes \\ntk aswntcl bpgulfilfilasfil.l isil. tudeioyd\\nclroahei\\ncleaouarne tside, \\nully e,ioaonvieunvincsots\\nsptiyhouecmkht, \\nopincenion )unadmvesoit\\nevlsrxmnf\\neveiag whieaoh beaoluy,rbearudtsembepemblerablanm hyphypoeypotsncexcleuhixclucludseo vaeioh dioecuss ,ethai)ussi \\n.eu. foraiua neuaoiori \\n.ri\\ngckwoipmfrtdjasbi\\ngreheldpery; \\n; muai\\ncoard- cd- amiwnuhctopbefsamplhisle-\\n fe-\\noiaftpwn-\\nofnt apoaprtapodlnpodedeictseictc (pc (phroaes,(phiyeal) ,-.\\nl) cuaplfido) ceaohde. \\nhethiea oyuccecceepsceedededucs nt,-.i prelouado, \\nne; \\nor\\'sr\\'s ;\\'s bmocpshbusi yemereo a,-l;.u\\nic)s?gaddui sr\\nedducd\\nreauihinfloaienfluiaflueios juenythsaidlnoceocenesdabt inwtareakei ,s)\\nnct\\nwsnftcmodijparu\\n(et\\nwheaoiargueirgumigume)umenrd \\ns,-;migherwiahorwisce- \\nce- hatniocmp(jsfwleb\"grduwed .,\\no\\npoulehrapoinsoint giec,s\\nsagear occeuoccauccasn purehoalsirposrrk. \\n. heoiauolel,; n\\n.r-spcmlelyi,  viegcsodr.inztviewniew ;.,es\\ni-w ofnrbug froiaur\\nandspe clrbtgxua whoeiaholedaoly ultim.\\n m.\\n\\nectifwsi knw noeal unspmapteie \"taei \"trhiwo\"tradentc iyos,lel\\nantfdesprmc blwialyts lytihyticic,\" \\nc,\" ,\" uitwma\"boehcf\" unf \"dstf \"dewio\"dededucrlucti\\neu- o,rsa.ng\";g\"; \"; aobwfitalso\\n ,ie).-lso \\n,.);costmgreasegt\\nlaoieur- f\\nr- laiwtencsbfod- laioepe, \\nl noaeuie\\nviaeou\\nviezcrh gorieuagoessome,umewhewhaeeepl ei\\neplyiply i\\n,.wo\\nspocvrdad\\nislnmtf\\nis ,ompreoiareheaehenmlidi \\n.,a;-)iditcnari coetkaipwmfurs(bdvlnjgns; \\nrms .,\\ntialne t,.)\\nbrt oftymwicaelrvsugpbue. \\nf viaeoew; w; ai(bgh\\ntairwposnfeh\\ntheroixposnf groeiubelolielon pw,qvg esxdnlmvagrfiy\\ntoharwierk, \\nk, bhaiwcmdtfeow mueoayaparbcgm exmnvqa irfze, \\not, \\nw is ftdnm\\n,lle? \"\\n-e? aitfcsbywehn? as rlntan, \\n\"a gireous (aifprcstewoqbmng (alnfc+ )spdtmbr(altwlgh, \"\\nl\\nshicteoaymup\\nshoaianotnmct), \\n.-t), \\n*), ioatpwncbfumdsrle\"hld\\nshnbpujrgitcwfdea\\noleem es\\n,ia meuaoilibelirrty ,\\n.;):o\\nhouaei beayeg teminsechim ,.se\\n-;my\\nsructedgiwmpkvbn doeiryauvicteif\\nitn dmslr\\nits .,;-i aimtspndcl rbch\\nahnoricwbs\\nlmfeptdguqh\\nalrcd npfsberlyeorly ,\\n)t\\nsakcuetohpyictorn, toryr,\\ni. )utms-enss, \\nt\\nplrhoauelaceiyr loieaudly, \\nntuirmstuituitise o.fyual, aesqraeststheueticomtnec cloheans\\nofuawtmi(c\\nrgpnshdbes\\nofbwruntpcmvn\\nintmlsd gncreoieto. ,-r);\"to. \\no. iatsbcnpht kinlligs nbaftmpegibilse; \\nus\\nbpicteafd(owrjqsmhugns\\nberuoyaccidcide aise juorequnt. \\n\"almo elmosalwalwayrays \\n.:,-ys ahbrsjemtdipcfw(ognula loaieudurieang\\ntacmiewuflrndopgsb(\\nhvg\\nthos qu. exiavmds\\nillppeandrltpearclktn\\nskeisketdketctch i.e,uralb,t cegn)i\\nve\\nvernssoonoon e\\n,; awaeawarkyiagniesk, \\neroug,. inerengaterngagtgageged;. \",\\n-ceivteiveiadeliu y\\nsa driayeodrievnolastrb, c maueiom beauyorg bruaeyobriedlnuef, dviscvisai euisabprngdlenlayinlarrge dtmsr\\natilli ee\\nneauo\\nnecwvxiegrsew. w. ibwthoni waieohnducmblsrt\\nintsdmdevoieevotliuvoteielps lps, ps, \\nptabtsnse. \\n\"*abbebbe dsrrasntrassh,;tpssonrchln\\nreat juosizeze oimltabswufhcnpk,\\nntl\\ni,\\nnoaeu\\nnot rnwubpageomasts.,a boelurayok twfubaiopednrterdsne . onfpurtbr\\nhaoyonne equl\\nju\\njusdrce: e: maw\"1itne: mak woihrar. \\nps taieombuhdr(flnpc\\npartssipaipatlnr\\nofwbuntcpg a nstbfpc\\nglrwimduar\\ncfgadtp\\nsirmnbklr\\ncoreahlle; \\nurveiavey\\ne- ey\\noaicdkwmetfhrpsem, \\ncolouldloursdshmehmenttoweareveoiarvincvleizatbnzati- whoeiaim, \\no jus\\nunpst\\nunicdaqkfvnrlspehco-oletmo-opr-opete\\nwecidturpaofvnsgmj(bhqe\\nwioahe\\nwitlsor, \\ng\\na pbnrltdsolidcsxtnw laoieh lioeaittleiur, \\n; soueitlefteft \\n.ft tlubfoqifutuaeiuturam\\ngenoxceplek ofunrbpplyiaelyinyingt\\ndieodida \\n,dactly. \\n.arraioye.\\nnoeag caohelrscapnrtcapeiaape ,d.s\\nrr noaeu lf\\ncsbaitmdp(noerjlwlie sdvf\\n,rie cabitfwuoaledscn. ,)xtv\\nideldeasl vt\\n;.,d-)r?fek. s kinea\\nbasculrtnl\\nelxmfnv\\neleausluliatliarnb)t,iar ily\\n, rea,ipracitegvcabluiso\\nngmtafcuipsboedo\\nneoatecuethum hornfa=wtcsmqbid lv(gm haeuita, \\na, eacitowbmhsfnrdjpknoria \\n,).-geuam am sralnojticquemfhbwdm siuoeythptibiulbi c curltsbmurtahe.fta sdkaowrcgftimsupeprupelrlex.i- aex.* x.*\\n *peh*persiusius.,) *us. \\n* [sa[satiraetbncrae ,tae ild iv.iv. v. 5oist. 52 52.52. 2. \"atmsirbow. \"danesifw\"dwedwell wiehoah yoe youyour t\\n,n;ou wfmatcdhinsebporu wiehow\\nhatpimeo(bfwlrsw\\nhoaw shtyepoiuat yoeisehoeholostufdrmpltuffff itefis.\" \\n*.\"\\n\\n\"\\n\\n h unspc ofvpr\\nworunk (w (whie(whieaoalf ,o loieang) ,-\\ng) woafun) wihaeocherdsmtcvel ,y.oa\\ntlfit ,nst)aec\\nedxi loealooksd\\nimpamia juge; \\ngoodod-w sd-wih-wild\\nast bncrlfvdpmgwu\\nass ,tciyko-la-labm maeuyioctnetnesm reia.\\nthiorri, \\n\"y\\ndioerusyntoynthnther iy\\nexmnvsalexhaioxhauhauslysiaety\\nratdcsin amuo p\\n,).biamusnr.\\n\\nbtwfioma787\\n.87\\n\\n7\\n\\n treanmest.-datmetmenr kniviatliatieaug\\nceoha\\nceranharamdetpgsrizeiozes \\nat tne. \"\\nsuitnfolldolloyeaow; oratnlepariynvarliabl\\ngoaodvgoaltoal ie,\\neachetetraiyoteps \\np.-,eps i\\nrikeiesh oths, .?t\\nhs, feelteel i.s\\n-yel quom\\nhioewtamspnzcrjbm\\nhaer\\nberiyoaly greoiua\\nwe rlial reouael, rrivcentbaesulpmrsultzlts- ,.ts- \\n- evlxaimsabansbandikendonmu,w linmec hao\\nearscpparotleep atnwiubpofdp an lstgus, \\n\"\\nenlaudetcsogdoma, \\n-ie.;)sucindbvcingag psreuohla psypsycsychycho,\\ndieo (id n.lftm)g(ideo onutbcpfvrmon), ;\\n.?-n), t\\nthroehhropuwpoloiyen\\npraohleuejududicenes: \\ns: tw\"fiaesgnhcuo1: thoows :\\n,;. igngnorm\\nlogtonscwfiguhiguriogurean\\nwehiorun sgun iatcuo\\nonubrtvcc isngt dncloiuclosacdefieefintct\\nnoearoofmtdoof s-.,\\n;:l laeoil\\nthoriei orfnubpr beyo aruli\\nor dgi,es- \\n- naoeal-\\n tmsl-\\nwfap-\\nwhie earscdttria\\nnarmtyrowne lt-dsi,\\nbstrait,\\nbrotedws\"amlic\\nnuhf,\\nbeuoya c\\ndiencti, \\n.nsth\\niptcmoaeswn\\nrgdh\\nitsnd mms. \\nobvibvioaviounluslysly, \\n.)-lt\\ntqowo\\nitnlsmrf. hobtgaiflwynepsopaepaedaedeodeutreutihric- \\nc- ft- foraibuleaw\\nbraioeuacqucquiaubstiuepe\\nknieonalrbdtsnt\\ncoahe eleasuoilwofoct. \\n)* eitsupplorpliefcsnaneoueous,\\nornufctb,vmheorleoreyibothti elxfmntvcarecrtud\\noth irrirreaodiabltrgmnh\\nhaoeri. \\ni. tiosnfphawbcr7so, \\ndeperoatiepenaltrs\\nsou molpr-;erd,\\n \",\\nmaieoualrelreaady \\n;dy eoawptihcmrsfgbd(nlwondt rfulmgeks. \\nks. \\npposrinasy ).;msy ftmouaebwiructkit\\nforeiaul\\nforluoyalgyal oad, sad, c, itfrabwclodnn\\nhaoyiieveiot\\nmuaeoyi\\nmusclt- choafly  egyoeegypgyptyptins- \\n- inmfs t\\ntageoigge\\nol\\nmai(dwtpcfr blioaued grlieuoa\\nwasnyrvoluvieonizagnctsofppy ,)py iacdo ideloea omaigwtcfpns(drebluck eid\\nwhieos\\nintsml fdgtualt- muaierype- d\\nofunbrptmdioguiogenogents laeioylaer\\n.,\")aertutiusmnn\\nnaeounamief\\ngeriougeomugeome\\nopipeed- \\nw paoruhe utmtiutmotmoscianlt,a\\nneaoun (twiaemnsucorqbfdp (thriao(thaeoirr\\nwhioareme) ,.:;e) wiaetncodsrmhlsoscosceole. \\n\"* eyeeyesd, \\nyes, \\n.xist, eavoeyivoursco geuiroaget hista.h\\nneoardanidanctguiod ,s\\nlapsapse, \\noupsed .,sghwahwayury .a hayioueaconp gavligavew diorer- ap\\niesck- ck- inh vieavigoigourgoursoo, \\nrapihapidtnopid ligali lilelei bei eball\\natweigli cair es,l.ianht\\nwitalu\\nncrfbsalculculehanlvlumnei bumn omn ohwatectahlahl,hl, od, \\nls\\nisthfdditnbtrats;* \\ns;* ;* at* a \\nrcngn; ; thoo\\nfoaug-st-stroangs ,\\n;.-):gs oafimetcwr(npbgsudhlroceiakuunvaeryinws,\\n rvatbnlvatieuaw. \\nl\\nutns\\nutit. reiapproeew, f\\nreioanforlupupiupiledil, ooseil hieuaoyut\\niwcamsnrdbloetp(gfvhels ,esitnenks ,\\n.ascrescriue\\ndarntyngthgth e\\n, *i ntf*i dchaw wiehoxactl\\nmeoanvolh\\nocbtfnruv\\noccccuprmscupiyapiesdc,\\nrea oldldesrvive swaeoiswalwallhup itsjaeowbpp ints\\nabysoliaabysbyssyss ?l-dei-desnftcvoyinrtunierotuneaiune ),xdsod. \\n\\nappoautse et. \\ne\\nfiaroue\\nfinrglcxferpelhrrpetdnpetueitpts ,.\\no\\ngarieuo\\ngaimnnumlarabliolt. \\nr\\nfraoui\\nfroeuagreaeciasdopefadaptydaptd\\nforuaisplae skieskilnkillfymockrk-co-conlgbs-\\nawihfotcesn-\\na e,lsnombaimbatrbata tir yeocrowash\\nperulaohads ,.)-why \\nit? \"t? witsfoa? wheistleyaspie f\\noubtnrfpvhtienns? \"s? nkwoiftaby? naonay, fideo,\\nbaietwnms\\nbutsirlureakphanzertoms.ey ui\\naoms, \\n.betrtw .ray sey uspnrtnd? \"d? ofyiwa? orbf guiaeuide ai\\n,ewedrn,\\natidspnbmoeu\"wch\\nyrgflot ,hrs?\\n s?\\n\\nm?\\n\\n hy, \\nsudduddeddendrrkabkablfix\\ne ix\\no\\nx\\noun\\nasbc ,wrlnfgdpixut; buey. leoassfusfull evsxnltmafryg soupiethycado\\njnsotwo\\njuocopeuyionicu asi.,vemets. \\n\"*uminlbodiyeodiefc \\nlsator, nm\\'r\\nreiuatarsytr,n\\nknw ant rlsbcudg ofbnurtcif, \\nsilyevlaw\\nas lwcut- me. \\n\")*rplexityire; \\n; orfunbtmy\\narstn pcdlbfs\\nhoaeiyh\\nreaxprerm. \\nks, \\n\\ngivfks\\ntouiem. *\\n\"eaft adopxlwrdoptopte ,i.s\\nm.*\\n  *th*thieougly, ;\\n-ekinutatnb)akinm frolaearmo,le syairmonusony\\n ,m.y\\nwiehaom\\nfrof-coeds \\n,rt- h\\ncoaielw\\nmeuaws\\nwtouianrprieg reuoalt, miliakye;\\nabtfiwe;\\nan lna, \\na isfnmtur\\nrcefpsioanktmudgjrm\\ntioabpsdmfcm\\ntorhan\\ndieoarsapp irs: : wehk upnss\\nesfxiqamvnldrw\\nthon.*\\n ilartbgse\\nusnlt\\nusue. ;,ausuarn\\nsecpayuothisepai ins,\\nvieviz.eiz.,z., mbingtbineadigenieunazgoniedsns\\nfoariusfy ,ify tsmuaiehrvds\\noftunisbacm(cs. \\noom ,.ge: : anl spacrtispacei\\nvaclrngivacaiuacandob uob usta- a- naoptisfbwt.*\\n  *sope*so orceie (npwatsmcfohbeijqulr (neoui(newxgiewtowtontoniegnianlb n) wfitmacolds ;.nivetoget\\nveiant- \\nsl just-\\n t-\\no\"tawiokinor. \\nl.\\nb\\nagit\\nhypg.\\n\\nntwasifenumisnnkinlf; \\nf; atbsnifjody, .-\\n?dy,\\n ,\\nevsmtinxrmembosafeafet lg\\ndfetytety, p.\\nnshiahip, ip, unleiunlesgulage- pitauiheoymeymen\\nbourtodfundcdameim\\nmwbtoim\\nmaeyued:\\n d:\\n\\n\"etum .\\n)b;,-\"eputlbgsi qi qudum.bum.* \"\\n *\"h*\"he\"he ,e.\"\\n asursbequueatty? y? wi23btyl vaei\\nsysnlmrifilyerebyeby ,\\n.;on? \"\\n-n? aitewrsornnegal\\nlimtckbnegsfvnasmic sasmu smuchreaesf\\nsepuyoitca ovelm oai(praieo) usn.\\nsoueypar, \\nve; \\nby, pede i,\\nd\\nevnfmxaqrse- \\nn\\ncoaihrleeny i\\n,bsurmurd .ie;as. \\nbenetdnefif\\ncitrvcitiy,eatizeaizen ,osm cioalerhusue ?,ds-s\\nvoeai\\nvociylvocaocatlb.-ms\\nont\\nrsiwfaena; \\na; toawibfpnc2reovnfeoveno\\ncdeolariusmgpkfbngs, \\nue; urreyoizinzinggs\\niotarwech.* fbthi(ancw* foirs- \\nh\\nwoeihrd. \\nmomet\\nuntsdrawnurawn si.\\netwetweelweendusalnbtgsalil, \\ntmechuechan,\\neffrt, \\n e.ge.g..g.,g., ee,\\n et, \\npalp il\\nalpalpabpablia\\nthraoirnt s\\nnoeaaw omtni(fwascbdee; \\nnginbaw, \\nee. \\nl\\nobrutfpnch- - siopetuhan quedom,om, \\n\"\\nif ,) anr\\npmst lcflowaty\\nnodis\\nw(tcapgrbmfy\\nneoancaptvull. \\noppoei yieyielfy, en; \"doctioctrctriedebtaebtebtedrrd\\ntnecmabona.\\n )a.\\n\\nitefa*in g\\nmoeuaty- f\\ny- tafh\"owinmgresuy\\nloieafyingod ,-\\n.)?;lifieytl\\nnoea dwel\\ninltd- ofubnrvtif\\niatwpoesfm\\ni dtjsacrnehumh,\\nitnaswhopmulfsh\\nktufih\\nknef. \\ncs\\nwbmatunbeorinbelcf (astoirnpys\\ndsauipbemctfic) ,c) wtgacyi\\nacctukqaa\\nbeac\\nmeim greilof yoivatlb)of. \\n). geroaunuint idleyl\\ncoalhumabliowinwingd urgurgesocriocraicratcrlesg upnstubmibmit\\nadvhedmjpairnoly ,st sliusligpkhtesodndegregreaee\\ntdocipfaktoucsrouchankif ,selul\\nacpwb(int\\naftfof\\nnaoebtleimumlmum- ,.)netri,s-unfiaoife s.-),;?\\nfe agflcuibohmg,\\nwbtpiaorcbreavpdequmeeteet s\\nxhibhibio, gireousnesnes gloaigloreautrywhywheayedl grueiaods; \\nurbe urbednogatnofs. \\n-,fs. \\ngladsnladldadlyhs wmoct(a  ququodauod l\\nm neoai vulvultgsi.\\n\\ngch\\n\\nat\\nhistgmdneposcnitoru,-\\nso;\\n o;\\nfb;\\nfopun ifavof usnptsefuhs. hts ,\\n.dal isiesv(and\\nt aieoloegian\\n )oo) o) cweoit. crohiablowcooot hs)\\neipfataeuheism tee-t e-th-thieinjunjurnsjurieyus- c. ia(tfbpsok prluffaifairltnocieatnliety airidig e\\nulougoud\\n ud\\nccry cobwobwebwebwebs ebs,bs, f\\nwheioel.\\n ri- i- baipwt- buoy eam (poestilafg-\\nwnbt\\nowno\\nleoialoquoquaeuaciyacioltnedaghlyhly ,\\nc\\nsyrforlk envi,\\ntnuiwaecbrryi \\nfutrnlwolfolf,ic\\nphrixedxed crutdceiny, ny,\\n shlyjumpet\\nsfwptwakextinrny. \\nuly aile ,i\\naus;th. \\nh. tfwbiast\\nonrucfbtpvhakeoff esilododoxy\\nioxy.xy.\\nerhaurhapnkerdkers ;,lterdrtlyeic ancl r.\\nforic styohpst; m leio\\nup ohckwakwar\\nsling; \\ng; tabisnfowjwantdsundnil\\' t,sms \\n,;).-gy.\\n *diviee\\n\"t\\n\"trhic\"-c\"- \"- isbtw\"as,*\\n,*\\np*\\npag\\nintmsigendshom o-due, dsugguggelggesrve- \\nmmleso- iotabicle (froli(froe, yeose), .\\n-e), \\n\"a\\nsapyeuctiohtextxt, ws:\\n s:\\n\"\\navt:\\n\"bhwest\\n\"bug griueo.\" iwtbaenofs\" itsn fobabtnbablii\\namlbptcnd\\nam o,.py\\nreoaiam\\ncnarpeie\\n(cwtsmfian\\n(coh(conmgsaer), .;-r), g\\nexvlgh\\nmyeua\\nmy son: \\nn: i\"hatcwe: i tnfsam, \"paniystdy\\nunpsa\\nreuaibe, \\nal; \\nm jun\\ngeiol (eiotsfnrpa (evmxi.nc(evece) -,.;) isnmfm\\nimsntdrdd tioanow? \\nw? wcoexroexiews ,abriidged\\nmieauounwioanwilsifliflingc\\navoak beayds.\\n nkfukfululnelnesf\\nvaierboairborla\\nlioaniuserge,orbidies dg vaeofun lucrlucitkadhedherr\\nisnmt lgcefoorwarwarrsy, \\nsy, frievdverntty \\nn yeoyeari reausixtixtyuxty-y-fo-fouoar- sl\\nbeoa ecotmizei\\nmuaerk- et- fencsda unfew e wrioewritm\\nofubtnnfavlincileilasmooksltmootndowne ysrficneqund- \\nr\\ngiuerogiftifts ihfts,-  turiit- \\naso.\\n\" *o.\\n\\nb  ko konkonie ,igsbgsbesberrg, april 1787.\\n7.\\ni i. \\ne\\n\\n bt.\\n\\nawa\\nrouosuouuousce? \"\\n? in tsfs\\nqupouns (sespuyaicomt(seneilfulfula qultog? kn \"a lntr\"a pstmni,\" *s yeom\\nextmfanf\\nboe,\\n\"hiae\\n\"heon;\" ;\" t\" thd\\nnoeauwaitaitehsch. \\navy,.\"vy, \"m \"kt \"kn\"kno. kn\\neitmpurtgls\\nempbmixetup. \\np. f \"evgx\"evee,\" \\n ii.i ii. )\\n8unphloernphis \"aihri\".\\n i\".\\n\".\\n\\nbt\\ntww,\\nibawtomea\\noai(ta\\nofnlviny (bpitwfrsaoqcnulm (by)eou(by \\nn); \\n); tiwfabsois- \\nid\\nainojhmdtsuvg  emxvna\"allvy.\" y.\" \\n\" whieoa\\njuf\\nknmelyleiatr\\ndieyia tsaoepi(mrunlimkgh\\nbeow. \\ninheanherive.\\n \"r\\nexsnmfvus? a\\nfaoruien juees ,-.\\n:rdnesoftftnesh; h; bawntioutteinihiihil,taugtaughml\\n\\n   deiof\\n\\n i\"\\n\\nw  ofunbro\\nwhior ju\\nguiaea. satifcbvngwohma vaieoisk n\\nforaiuisresregp (ofnrbtpum(of \\nll), .l), cs- \\nsk\\nwfoak\\nwibuiluildti ildi .\\'elding\\nwiohaeago n,ggo hbotsiafcss? \\n\"thiaeh,\" \" meuat. \\ny\\nhayeig\\nunsf qut\\nquuartdaerwidedsti hurrtbtin avoar,\\nitsnwamdbc\"foli\\nknrdlydoveir, \\nr\\nmoaeiyirley. juets \\n, voilcntueon e;,no. xcusnsolmpnrg\\nfroysatmulta)h (taniwr) wilbarospesycospeilst lst,\\n d\\nusnptlipsips oedds ,\\ntwoied (itmwhepcbar(i msy),y), \"\\nys.  b blaf-ib be a, \\nly) .,y) itoasfmgpwnl a; b li\\na, (afftve) ,;.ugmegmentuen ,\\nr;\\ntwab;\\nthoin. \\n\"d,\" \\ni neoit: t: i\"abtdy,\"\\n ,\"\\ntabcmow\"\\nthnk\\nitsk\\nintdy. \"  juimonuunneyat \"biw\"boded\" ;d\" ih\\nstoypuaikhddredresdawe\\njui\\nreze\\nbtocl\\nwhioay kneir (oaehwi)2fbstnc(onl\\nta\\nwhoeii gorab asnke, \\n \"soput\"som s,\" \\n\"\\nanl- \"tqhewbns\"-s\"- ly? unknnknon =  = x17ab0on= x, x,\\nx,\\nu,\\nupna a nrl\\nsctd b, \\nb, wiscmtbdnexehtupc xes .\\nupnri; i; fatiwb  v.ie v. )s\\n\\n   \"aii\" ah\" arnls 1. 1. mstaolirwbes),. ;s), \\n\"*peopeoplopleuadeiay. \\n*us; h\\n\\n emurmurr,ot; n 7  7 +sc7 +  + 5+ 5 , 5 =cm5 = = 12 12 .\\n12 ia2 isg (acsi=qewmnrtfvb(acct) froaefivewly,mbraobtaubtaiwo- r\\nliaoesegnegneaugnerdstthmec fioedd\\ntswen. \\n\"r 7, 7, 7, af 5 5 car 5, 5, 5, gib3w bye,aor 122 art 7 7 sho 5,m = = 7 \\nequo 1212. g\\nlaietwistcg\\nreaight,\" uantdcy\\nquhainra = = a,(a+ba+b)+b) b) >stom) >  > a> a,d\\nye\\nyetr\\nvaiec juuivoaivocl joijoinvirt  2. \\nn 2. \\ncs) ,-s) caoiftwmnp \"int \",f\\n\"in ad\"; \\n\"inft l.\" \\ncy, ls. \\ni\\nthroehy.\\n   3.\\nr 3. )\\n3. astoirwgs; behioaehincg,\" \\nh\\nlievi. rmulla oit3ss\\nmaueoyir\\nprheoau: \"hstcwioeanfmbrdy \"hoae\"howe?\"\\n ?\"\\n\\nai. upnwnfadaviem; m; yabwsfjth; yeipiuipiumium .),\\npis),.- ),\\nibapwtcsolma\\nmeaois\\ngioerukewiewisntedlyeg quns:\\n e?\\n\\noit  reoprie?- ?- fahig.* * buem yeoue\\narsoticpb\\naimodr *asl f*as ps\\nmcdsw(emp) phroiae, )\\nae, c.- .- tca prgra,\\n a,\\nobaptiwcmr  yeounqu (meoayu(metdrlca\\nnis). \\n). ftniobac\"hwursowardbh quefroaom; ?\" irtobhlvfa\"f,\\naftnwhan?\\nn?\\n\\n,\\nforiats.o us:\\n midad s-wrolio .lixiixitms; ; praebosoutwatwarr vaieof-del\\nreurmnemnesdm\\nwihod\\nqwf(\\ndobd\\nquowthwth\\n fruisitfuots t,vii.idiumsbtfuify, i.\\n;\\nerrgeor- \\ntraiueoyoo wbcsrmdegflvpo\\nunspdo. \\nd\\nguirochsta hstoathleyhlesssneday s,\\nh juct; \\nr\\njuwn, \\ntee nldsim\\na dplntsrcupy ;i.o\\nbuearolburdni\\nwhof;\\nba;\\nbeudginy;\\nbla. (wistnin),- .rcomw\\nofnuubdiubdivze. \\nspriuoot),h\\nfoai ss \\ntsoesoevoevendwodwor (rea(recpafmqgty) \\n,.;) thiroa; coah\\neflsampxvqnusceie\\nrc.; .; yfpe. c.* * thowte. \\n*\"baumaumgumgamgarifulgnatlnvl-kn-knoaiotiothkai ai nnoetoetal\\nfiuoraf\\nunxt potrw\\npros 2.\\n1203(a pmdrgctnd), -d), \\ndimei inwanwares? \"\\nct? \"am);m); na\\ntiwa(georsalk esalk owtl-emsaggreggretipl) lioyery- hirdtird, \\nl  4.\\nt 4. 4. sct\"mirs 3.\\n  geir(int d\\nasf. v.ev.) .) bntc) buyas: \\n\"spa\" buyaoi.) ) noew caoelhct\\'st\\'s w usps 4.)\\negoi\"r, \\n).ngoin  (abct(a) a) stoanih) sph(b) lse ,w.hl)d\\ns-;nw\\nitnsak oatgimdfid. \\ni jou(i.ei.e..e.,e., ) ofnrbuthdrhdra3.)\\n.)\\nt\\ni)\\nthis: \\nye, a\\nindtsdmons 5 ,\\n5 me lyinull axiioms a.,\"timn,\" \" \"dtb\"difve\" ;e\" (mo\" (atif(as ,\\nsnt).,\\n t). \"it ,o.\" \\nrul  5. 5. 5. t.\\ncohs 6 \\n) 6 t6 tr(ss , 3). 3),3), juncn-pr-preoul.\\n s 7 \\n7 cobsisdgs. \\ngies (c)oa(c) \\nte; me- \\ndrci\\nofprm unpst\\n\"al we,  (huo(human) -ts),. \\n\"\\nbeecko sckoni (safcw 4)\\n4)\\n\\n)\\n\\n s 8 \\n) 8 e8 elnimoaiepnoveouns huaoek \"chao\"chaal\" -;l\" (nual,tned).,\\n; d). *\\nift (oytiwjfcqandls1bepmgh(or gd) w\"inuty \"mi \"myiue\"my e\"; te) .,nus u.-,;ikinde\\ntofiwamehf-su-subfa (ye(yet(forlce)- \\n)- aiwthoscfmlp so\\nkeekeep(spao) emnxm\\ngreatlyurmoiovablvabl-\\nin tf\\naesqts 9 \\n) 9 g9 getulaar; n\\nusnpeof; .,)\\n-of; be; sifiyp nea\\nkn \"whi\"whaeys?\" \\n\" reld.\\n* umullsifotpty \\n.,;\\nrigsy)\\no)\\nofroto mtcael)aelolo dngttom,om.\\n eibnibnibnititz-, i\\')tz-wz-wo-wolfianp hedo), o), inbonbowubow nny um\\ngj(o\\ntcrblandroeadropul;\\naitr\\nusntlausg3.\\n\\nhe- g- poursare: \\no yoiou\\notceu\\nobhs?\\nch; \"twowo; o; oinahfbl you fie. yoeu\\nthe yoeu muaeu a frndti unsle) ,.;u tho; hoelf?\\n\"f?\\nfb?\\nfou coaw\\n(t2\\n(thriere); ,.e); \\nso) ou, u, adubiubit,c.\\n(td.) (extci(motvdnl.\\nevtapd\\nju: ho?\\nbu(app\"egogo\";o\"; f-in-intsc-fe.* \\n[uibubd-\\nwtjpde.lamebmerkerkeldskeleley ,-ilty fume(illry) ;,rn.\\nhtlygy, \\n*- goiued? \\n? foupreior), .de),.tus\\n ,)es.ivusmvus) us),-. ;\"riusm, qu,uoads 10123456789 10 \\n10 c0 coi\\ninro\\n\\no\\n\\n s\\n(ralcnqeowpsi\\n(rens);. ,\\n-s); n\\n(wcmtpfio\\n(whit) inmfctpid; \\n\\njoixchank. \"ld- \\nwtoledollera ,;\\n..\\ngedry, be. \\n\\ndraeyc giromotgrd\\nloaeih\\nusnpn\\nlieac,\\nitwn;\\nftabciwul\\nloaii\\nporen)- \\npush \\nush ieth?\" h?\" hamepungu ,lid) ,*) \"m\"mililkilkine-go-goaovoat, \" ipspso day: \\ny: \"(bigt1e \"ofn\"of ia, otwiio sfraqpoetcua nh\\ndeoiesol(objcoheoherh\\ngiroesadlvt\\ngeirosslyw gerloaktoak dignr- unpsg jus\\nkienpt\\nwamtc-\\nn-\\nnoajugggglieglinmg), ypers .ry: : (1 (1)(1)\\n 1)\\nt; (24bc (2)(2) ,2) tfig\\nnoeag;\\n(ifa;\\n(3\\n(3)(3) ,3) tm deori (4)(4) 4) tg\\ndierout.\\n .\\nheoaiea; \\n 2\\n\\n2\\n\\n \\nbirthplhplaie, lopem   choa.e 3\\n\\n3\\n\\n ak, hazaazarzardc unsouplupleex- x- s\\ndutrlunminmixsea. \\n\"hoicoicesn 1. 4\\n\\n4\\n\\n n-seytup-sens;\\ncafwboit;\\ncoi\\nun-\\n\"a\" ournfo\\nvaef\\ndieoua yel- wotpinebfarmchle: \\nw.\\n\\nt 5\\n\\n5\\n\\n ta. \\ne:\\n\\n\"dn 1\\n\\n  unr\\n\\n  2  2   y   e   tegogoriyoisjuosjunodalyy\\n\\n chnihniqcniqug\\nobrufnpsyllylloo qu (ju(judsciumc vane), -ta\\noc lic\\nthroc\\nabsnl\"- l,\" c)\\no\"if wicke\"\\nco \"per\"perd \"td.\" a\\nqus\\nju\" eaxtld; \\nmutuaup\\ntiwop\\nthork\\nib\\nt(ad um). ,;\\nm).\\n ).\\ni\\ngbftc(truaue);y.* \\n\\n(anslta\\nhyoian)\\nibc)\\niniproet\\njum\\njumeonly:\\ny:\\nt\"i:\\nth\\n(li(likbwronke) aks th; majoeajorjor, )ily; ; la *ju*jus 6\\n\\n6\\n\\n c\\nwoind\\'sd\\'s\\n \\'s\\nre). \\na\\ndieor(be crudeix omatx oufrrkinldomrs) ,cade 1  1   plur  lieo(subcmpa etxss)\\n\\nar(caust)\\n\\ngy -  - inca3boe - ;\\ninmtht), \\n rhaesodiythy .,\\np juhuntdad\\ndifcbsoy\\n(qtbcu\\n(qu(quaie ubibi, ul), otusmbs)- \\nio, io) .\\n,;k\\nforubora\\nusnnpleasansantdsupat ominstpotpon.\\nmeoayanwhnwhiabulnstrtmeup;\\np;\\nadilyep.\\n\\n 7\\n\\nrojeojecsewh* he dyndynaynammicas, ruhotoomy., )?\\n:;my. \\niad ;\\nlinjoiyex oiatcdpit) ,.;-ordte- a- (ift(if y).\\n dy- r). \\n- juem- \\n 8\\n\\n8\\n\\n olmealmenen-  \"qu\"quoiodliedlibunumsbonudnonumm.\" ]\" noutolesy oy, d;\\nftacwnsfoesfornautgmogeghou(notr nu(witlp fotuyreap frlottinii ot 9\\n\\n9\\n\\n prudn (quti),.i), \\n, judulgliulgealgen mbis?\"iegaeb ob offs fowatdmuaesti, \"hy\\naidglrm) ,.m) icowamedfudfulep\\niadtp\\nink\\nble\\nbliaogs- (we ebarri), n  d ayinng: g: \"t\"expobordon\"; n\"; he,\\n \"ra. is; \\n10\\n\\n0\\n\\n coinak) k) dc) doyia\\natcsp nrdooroor eaguemp enistwocks, ;at;  11\\n11\\n\\ng\\nproaeit; \\nd.* \\nea, \"\\n 6);,6); ok\\nsbk\\nstu 8),8), n\\nju*whe(posi12\\n\\n\"i tuwacemnk\" ?k\" maie(e \\'i \\'i \\'i tnk,\" \\nk,\" \\nn\" inyinm\\nnoch), h), fragimntragmreiagmeaa\\nvaoeem\";m\"; ny-cy-cod\\nvaoi*all- deoirk) t;\\ncfawio 13\\n)13\\n\\nn \"iatc*spac.) .,- 21.\\n21.)1.)\\nk gek.\"\\n  14\\n14\\n\\n 15\\n)15\\n\\nblunlundat* itntae) ae) ,;-sm\\' m\\' g\\' giawins\\n5,\\n5, g\\ngirnt: \\n\\n\"whht\";t\"; \\nvy\";y\";  16\\n) 16\\n\\n13).3). 15).5).  9).9). 17\\n\\nx mye 22)\\n22),2), 16) 6) ii vaf\\nju 18\\n18\\n\\nts: : fiy); knewsem) ,. 19\\n19\\n\\nm qu\\nign 20\\n)020\\n\\n(synsiosaiosa)sa),;a), \"\\n,\\nlieox\\nwx\\nwh6), ly- \\nedcago (upn(upolf). ,;f). by. rcle),* ,* cbtjwiof* coauw \"i\"i\"\\n \"\\nwh(oth\"i, \"ar\"-r\"- f?\" \\nf.*[.*[2*[2][2]\\n 2]\\n\\n *mo*motripteipti *[2p\"s2] it] i 21\\n\\nam.\" \\n(mu(mucnsce* \\ne* ctk myoai i) i) ciow22\\n\\n16 a6 and 1717).7).a).at.at omfomforld), * (sbe) ,; naoe20).0).\\n i, aforesaieeziezin(fluluidct: a\\n(net\\n(nao(natra mfowata). ;,a). egulanl)- igmama.\\n rm- \\n-\\ntholdnel\\ngriuw (a13nsorn\\nepmtws; \\n 23\\n23\\n\\n *le*lesio\\nataequca. \\nepiepigtcnspige-sysniddleiddleay- ),\" \\nfeecaphs i\\nshuayc deior (dia(discc\\ninc), c\\nouf,\\njucifiuc quucatsh, ngrauraftesmamiraret\\n(taiarpeae\\ntngo-ch.\\n\\nai *de*deftupiedy.ow-m\\n w-mi-min epioomucs (lai,e(lappsuscii)ii) \\n\"an n.\" -\\nndne\"caui.\"- to- mi\\nfoier..... tm\\n(e\\n(e.vms(e.galneht-a tt-an-ang e-anowheog ir-fofootiduaouhidd \\npthsveileil.ilnogrt.\" \\n(timrewi \\naorum(homwy\\ngeriaulot-b t-be-bei(sacchhehhei (= (= 0= 0 ., 0 =out0 =\\n =\\nnx=\\nneo). *um; \\nnuoue.)\\nl\\n(apef\\nqup ofnue): ): aliziea(numhaendaenoerdurdurn-\\natczwnieaeteg\\nsueopymiersier syucm\\nseucoambiebigu \"noe\"no tzablnsgrsgrep\\nwirfluoluou-eviys: g = = b,.n-b.,e-b.\"b.\" -b, y qu\\noldla\\nly-\\natpho\\nimsacule\"at me\" ;do; uaints? \"x in\"to\\n nt\" ;t\" tma, \\nd\\n(ptws\\n(poherh knig\\nbueusy \\n\"ev; exvifeguof) f) rt) recs; ic; c; tas   na- \\no)\\noxus)  squiagoegonayio ecoaltcne- \\ntsi\\neni). m\\nparuert).;\\nwh\"be tas),;. t?\"\\n ia); .a); l\";\\n \";\\n\"b;\\n\"iae.\\n t.) *a\\ngruieo.\\nphou);\\ncby\\nvaoil-in,\\ngeiour0 ononwan\\nqu0 upurusprhorholplepspsisy = = o., o. \\nnutiecreiy\\nsmaod ze zeranzero ro, roxi o,\\n ge),r-\\nfsi-\\nfoua, \\n(of.\\nwheirrupruptupteisdolloeaney,.ey, \\nilveieceay),nuumuum), .\"\\nmig\\n(ts(par) muaol\\nhyeiaoid? \\n? yeoe-me-mencaft\\nacngnexpannworn:\\n\"e.).\\n(einseyneyn)yn),m 0 0 tourfaorfacxcitna), .?: exvn). \\ndi oi(perwn) i\\ndeiof 20200,00,00,00,000000 00 i0 ild)\\np)\\nperdus \\nbjoiunreinresa \"for\"forae\"  a. \\ndi\\noltanel\\ntonfd: \"1tmokeke?\"\" hea\\n\"su\"subwoodr\\n(sci\\n(suergoe \"fro\"\\nonr-abs-abi.\\n\"g\\n\"gi\"giggignni deil; ilumr,\"* \"* awadasjoi*[pe[peri.83.83-83-83-84-84.84. g.\"] xicaal: l: \"\"onlot. \\nx an b. b. sboeg\\n\\n ge\";f.)\\nf\\n\"tow).w). aw\\noh\\nicn?\" - b\\ncb\\ncaip fbeam .si,;sa; ft.\\nck\\nfireupeupose\"-e\"- l\\nvaghgohgoiw hoeiyd?\" gn\\nasep whi\" fro),th,thek\\ntha (aentmifir. izonzont ,s-caveowde,wdedsy. n)? )? bw? buy, kn,*it b,\\ntb frm\\nze\\nzerro. b -\\n  -\\nas = e = \\n(b (b - a) ,p\\nou o a(m zero ued=s c. w\\n\\n sa-\\na-\\nwstriwiiwisf\\nforuaeme?\\n ?\\non c,  d,  e,  e tago\\nbodwa\\neab ins\\nb tb thge* tii)i)\\nc)\\ncopy; ovo,vo,  *ge*ger(simznue? ? thonobosld,* hiat(its m), be- m\\nrehew el-fl-fio-filebtus () () d\"i\\nategesdt gamee,* m,\" \"havun\\'sn\\'s th).,;h). ams ,adness);, ia\\norp\"neco\\n\"aorbieids \\ntap\\niltusr)-\\nfwtcuummscrdy\\npdabsak\\nitisdiosdicpovele\";-to: o: \"\"muc\"wit1) af\\n(2) (3)nywhty\"-y\"- zantcy. \\n.\\nlaone? \\ntz, \\nz, ioaer\\'ste\";oumerd),rmy .fog-og-bg-bal-banl icecebeebervoyayagek\\noufms? ummaouiue- ek, )\\ngethcohcomes\" s\" i(\" cof-asc-assnt? \\no\\nknss- \\nw\\nbent\\' t\\' e\\' efud n(schma),)\\narurksi.i\\nne(solp) hal\\nquibblbbliemy, \\nfugeuge, raoraorden: a)? er? \"r? tiadix\\n. x\\n\\n ix.\\n x.\\n\\nmphia,ibolng? \\n-g? tf?\\nma\\n(fone\")e\"),\"), *(matjptusoegletz rfciadhtoz renibliliumspugnugneaa 3  3 -=3 - - 3 3 =  0. 0. owalanrf\\n(ae(att ulsi,e ogounz,\\nwla),(essz fids) ,ar) ntmerhetil\\ntpnodcknoz com\\nburoextursh. z insnoogloogoz as 1st1st.,(amo 2nd2nd., \"re\"rear,\" a -  0, 0, ez dipompomp otzioazio-io-w o-woa.)\\nupho 3rd3rd.zianma\\nawol,  4th4th.;\\nonmsleda\\nomniomnimni tpslo);o); guoutz\\'sz\\'s bic (tak(oppd)- e zeo = r); \\n(imn(imp: beul). tlin*if \"are?\"- rgint)- k so= no(enstd(nihvum) \\n,.f   ,   m   m\\n\\n .  orknerr, or; wo, unobn,* * jui\\nju*senpayis xhork dorcats\\novems),adjueadjuns; resm; g-cho-cheash- -\\nhode- d\\n\\n : soeefo (geo(gen\"doeosylsm) ,l)\\ne)\\nexupwapwariocirti (d); fy.\\n i -  eurtleuroi hurop ul; rt\\nofhtaynonnym osym ff), typeaoeys w\\nfrahy- pokem-\\ncs-\\ncoal,* m viads- p us *he*he rwhexaggbduebialgsbruct\\nvullgaras; p\\nalsaw -\\njuypal)ctypopmepmenajesjestio. caiuaiusan- \\n(un(unicey- lo, ymoua.\" \" soa,\" sdomnugaugat-ego(cha\"congysylca, os) .pisyeiisyl (tot : 1s.; 2n.ld: ; 3.gy; osmoimoloegs) (psyutlioas- gs:\\n :\\na ) gip\\ndownwaea- \\n* no: goc\\nred kinlublvehieto),;eeabne\\'se\\'s c.\" (mys e*\\n\\ngized,in,insyms,rspicuit\\npsyr \"hit =\\n =\\nx,\\nx, x, wasfersian um\");m\"),*[\"i[\"i e)\\ncye tmty\\'sy\\'s - reh) nan;3 n;3 ;3 c3 caht: r)- poorp beyasm:\\nm:\\n\\nct\";w\\nwhelssosohnhn ful- fe.*\\n  *cl*cle] thfe- r-por-posiwalvet-so-souoy\\ntci-\\nstpuit?\\n\\ngy- ts\" ;(ourfe);k\"?\\n\"?\\n\\nmazeazesfe, o.*\\ns\"; \\negoop; p; aim- obitowy wy gumouhty,\\nirrr-ing knarouspyink cok\\n\\n y-es-estveallf: f: b1ism\\npd pnepneuneumteumaciblslume-si-sidgmy) smics-who(ratin; \\nea)., m,  n,\\n\\no,  n ita m ((l,  k, .), o (pqbia(p,  q, q, r r, .)-  n\\ni p, (dabtia. st) ,od), -\\npaher* whe *nao*natdjecliqunlucckilnmy? ? 2n? 3re-fick, pionu ey.  umpatchrugg; jussmesmenlwsuird; ; upto-ex(filtgx thonrigteoufs\\no(botnawaol. d)* )* mn* ma-\\ndovadeiwn- doinh-\\ntn-coh: noain- actz) z) o\\ndyn i- g\\nhaoiws- om- awleby; onquueraoew\\nsehol) elt ys,l-suycy),ty: u doeu hare?\\n\" ?\\nin,\\nyo\\nyouu inu ne*\\nbu*objin* n* t(butunhanhapbt\\nyenbronos)iy-den-a.l-a. gruierr vvon ndpodpoi\\naxisoaroar \\nultemmeack. y zezealnd:\\n t-thelcolcomakabpochroch \\nstlooto; g)- if- ldlysm* m* airounpopmb aouietobbefeara\\n\\n w\\nnotodao-moe-mor-allnklysworvow wabl\\nwrown; to\" o\" bsclaogy\\nabomriameer: r: \"inu seatu exm\" leou; u; t- you beyek\\nftuouoo\\nglese:\\n sk: k: \"d\" vod?\\nb\\neppill?\"l?\" oy; at\";ut: xt.\\nunjug-decy- tsteop, w vi\"stay.....\" in: enjonpersy\\nc  zeho, ubvebvercize-\\nbeay; ryboybodbad \\nld-sm-sme (ve(veluaveveol(smes)\";)\"; n-inde; \\nofitid- pnfrorohiohibpausubre\\npiec\"prom;\\nbu pl \"yoe\"youit\";r-en-endem: m: \"nd\";y\\n\"i mr mr wte?\"ncuml ix.x. ocmialocurslsp o: coe(absl\\nkn)\\nremevaen),-\\nzn\\nznaznamm\\nunr.*  *for*forgun oerc(arbrtr?\" f-ph-pheld? ? suo-blosymbpymbombolw\\nlea\"\\nis.\\nreuwestry? ze; e-denae)aw- w- thaoe-re-relwjoysefe; ulpralprigo; be: \\nh\\nquep. duo-uo- to\\'so\\'s .\\nvitoiclopy. py. pt; otyp*\\nthllgerllhelheir.\" gabort;*t;* (omnudo )duum(ectpa),-\\nexvp perg?\\n\\ntdy; lgroiw-\\ntibriemn eidoludy ,icot-cothg-polilgrgrimccruelkedgh: h: iot? lt; ? exaniporipot.)* *a cm\\ndiop you oug yon?- g)\\nr(god)\\nbez hatockdornz thedi, o-thri: i: tep- p- trvushi- of: . 2.. 3.. 4.no, ch?\\nh?\\n\\ntay\\n,awe  i? i? hta? heihoveea? a? wtwavese?\\n heurhizeiu\\ncap ren\\nvammitnmb. ob\\ntb\\nthow:\\nw:\\n1:\\n1.\\n1. ibab2.\\ntl-pocundy-ac-actcrhumgn- r-sithap, l-th*notrnorrsh-? ceolks w kiun, sy; ltlewns focuc\\nung\\nvada).,ra- lkalkali(stols) ,hs\\nhfishra; bspeub-sb-sp-spe:\\nenvdae.eyind-poarum:\\ndam)\\np(lexx coui ira),ta; :\\nvala, ymptaptotmic* c* p* pr*frourhirhioiokooko.ko.\\nmob ng\\'sg\\'s a;\\ntab ostmy: rm? m? at\"va),ffspfsprgo) ndy keptnapp(i),go. m,; ,; wom),?\\nthleolimb ,gn. \\nflaroidnvultubeuber(ignva r).* gy) ew-p w-povegengdogdomcicesa\\nrri? dainthfuhfuly,* ws? h? i: un*aftbt;\\ngn, r\\nyoor: t); pe\\nfthivels- \\nk re jeajealnemi)rm; lmanxandirpa\\ncultcodek.\\n\\nnskillfupape typdjacjacegot algegebrl-maegoldis* s* oafostod; mps eswimwim,d-caaf ew\\nce*phifs- oamaamatfs, \\nf-knma; \\npeeceechfe\\naovetokat hrhoeian.htfuh); gy: ulzelzerakneuet im; ld\\'soisopoeioeiaseizeizeze? w yoanxinxiexietl-baet:\\nw:\\nwhg?- :\\nnogid a ze-disu raeu\\nexwd, e\\nyoanqurb yb yoy-gool fomfy\\nolfarhtneodneirnew\\nrehobbrbulok; k; fok, rydaydayipenulcalcatp drraugy yeep, roesalhalhalutraumfemfereogranhonhoo-shihiftftin-pla:\\nifys- wax, ax, ax mat) aw; oo. shuthut ks; mspegh- m knauxiuxilatne;\\nunliorr \\'d \\'di\\'disuippippeam; fy; w\\ndoosurdvocgogiur; rk:\\nk:\\n\\noil k nanproegn* igrem\\nlirtfuod? fe? w?\\n\\ndo?\\no?\\n\\n\"pe?\\n-k\\natpy, rpusst: : dohee f-reewart }  } r} repy),nbiaiasenspods? ;\\netgnumni\\ntiunt: opd\\nkn.\\nknf); ef; phthhthiph, rtneef\\nrmtefurwovwoveutbrtbreidwadwayef? f? cer!\\nr!\\n\\n!\\n\\n euloxt\\nshsaffed \\nrhamb, i\\nbyicroca- x dax prpiisiis..\\ndi\\'s; lagergro(telawgiwgiv *by*by f-goid: \"metem? ? \"dfiftfth,cs? \"yesoo?\\n?\\n\"y\\n\"yedy? ds: d\\n4.\\n4. y-ob-obsgy? my; ulwalove\\nglaye\\ntz ofnakemihihi, mnossiquus*\\ns*\\n\\n\\n\\nis*[sa. 78 78-78-78-79-79.79. 9. \"on\\'tn\\'t \\'t cwretw juotpatpat  -t -th-\\n.\\n'"
      ]
     },
     "execution_count": 56,
     "metadata": {},
     "output_type": "execute_result"
    }
   ],
   "source": [
    "# Преобразуем все элементы в строки и объединяем в одну строку\n",
    "bytes_data_char_sequence = ''.join(char_sequence).encode('ASCII')\n",
    "\n",
    "bytes_data_char_sequence[:100]"
   ]
  },
  {
   "cell_type": "code",
   "execution_count": 57,
   "id": "23e566c0",
   "metadata": {},
   "outputs": [
    {
     "name": "stdout",
     "output_type": "stream",
     "text": [
      "Для хранения буквенной последовательности в сжатом виде необходимо 29.36 кб\n"
     ]
    }
   ],
   "source": [
    "compressed_char_sequence = zlib.compress(bytes_data_char_sequence, level=8)\n",
    "\n",
    "print(f'Для хранения буквенной последовательности в сжатом виде необходимо {round(len(compressed_char_sequence) / 1024, 2)} кб')"
   ]
  },
  {
   "cell_type": "code",
   "execution_count": 59,
   "id": "97fb531e",
   "metadata": {},
   "outputs": [
    {
     "name": "stdout",
     "output_type": "stream",
     "text": [
      "В случае разбиения на числовую и буквенную последовательности необходимо памяти 50.49 кб\n",
      "Что позволило сэкономить 8.92 кб\n"
     ]
    }
   ],
   "source": [
    "full_mem_size = round((len(compressed_char_sequence) + num_sequence_mem_size_fib / 8) / 1024 , 2)\n",
    "print(f'В случае разбиения на числовую и буквенную последовательности необходимо памяти {full_mem_size} кб')\n",
    "\n",
    "print(f'Что позволило сэкономить {round(len(compressed) / 1024 - full_mem_size, 2)} кб')"
   ]
  },
  {
   "cell_type": "markdown",
   "id": "27c30d81",
   "metadata": {},
   "source": [
    "## Теперь попробуем сжать с помощью PPM, взятого из https://github.com/miurahr/pyppmd"
   ]
  },
  {
   "cell_type": "code",
   "execution_count": 28,
   "id": "1621d18f",
   "metadata": {},
   "outputs": [
    {
     "name": "stdout",
     "output_type": "stream",
     "text": [
      "Requirement already satisfied: pyppmd in c:\\users\\socol\\vs code projects\\archive\\venv\\lib\\site-packages (1.2.0)\n"
     ]
    }
   ],
   "source": [
    "!pip install pyppmd"
   ]
  },
  {
   "cell_type": "code",
   "execution_count": 60,
   "id": "b97405e5",
   "metadata": {},
   "outputs": [],
   "source": [
    "import pyppmd"
   ]
  },
  {
   "cell_type": "code",
   "execution_count": 65,
   "id": "6dfe65c7",
   "metadata": {},
   "outputs": [
    {
     "name": "stdout",
     "output_type": "stream",
     "text": [
      "Для хранения моделей в сжатом PPM виде необходимо 54.32 кб\n",
      "В случае LZ77 было необходимо 59.41 кб\n"
     ]
    }
   ],
   "source": [
    "compressed_by_PPM = pyppmd.compress(bytes_data)\n",
    "\n",
    "print(f'Для хранения моделей в сжатом PPM виде необходимо {round(len(compressed_by_PPM) / 1024, 2)} кб')\n",
    "print(f'В случае LZ77 было необходимо {round(len(compressed) / 1024, 2)} кб')"
   ]
  },
  {
   "cell_type": "code",
   "execution_count": 66,
   "id": "58cbf032",
   "metadata": {},
   "outputs": [
    {
     "name": "stdout",
     "output_type": "stream",
     "text": [
      "Для хранения буквенной последовательности в сжатом виде необходимо 28.61 кб\n"
     ]
    }
   ],
   "source": [
    "PPM_compressed_char_sequence = pyppmd.compress(bytes_data_char_sequence)\n",
    "\n",
    "print(f'Для хранения буквенной последовательности в сжатом виде необходимо {round(len(PPM_compressed_char_sequence) / 1024, 2)} кб')"
   ]
  },
  {
   "cell_type": "code",
   "execution_count": 67,
   "id": "e31f631b",
   "metadata": {},
   "outputs": [
    {
     "name": "stdout",
     "output_type": "stream",
     "text": [
      "В случае разбиения на числовую и буквенную последовательности необходимо памяти 49.74 кб\n",
      "Что позволило сэкономить 4.58 кб\n"
     ]
    }
   ],
   "source": [
    "full_mem_size = round((len(PPM_compressed_char_sequence) + num_sequence_mem_size_fib / 8) / 1024 , 2)\n",
    "print(f'В случае разбиения на числовую и буквенную последовательности необходимо памяти {full_mem_size} кб')\n",
    "\n",
    "print(f'Что позволило сэкономить {round(len(compressed_by_PPM) / 1024 - full_mem_size, 2)} кб')"
   ]
  },
  {
   "cell_type": "markdown",
   "id": "bcab071f",
   "metadata": {},
   "source": [
    "То есть простое сжатие без разбиения на числовую и буквенную последовательности в случае PPM метода не улучшило степень сжатия.  \n",
    "Возможная причина - в буквенную последовательность все равно входят не только буквы, но и цифры и другие символы"
   ]
  },
  {
   "cell_type": "code",
   "execution_count": 73,
   "id": "05519f43",
   "metadata": {},
   "outputs": [
    {
     "name": "stdout",
     "output_type": "stream",
     "text": [
      "Полученная степень сжатия марковского источника с помощью кодирования Фибоначчи и PPM = 0.30489\n"
     ]
    }
   ],
   "source": [
    "compression_ratio = (len(PPM_compressed_char_sequence) + num_sequence_mem_size_fib / 8) / memory_size\n",
    "print(f'Полученная степень сжатия марковского источника с помощью кодирования Фибоначчи и PPM = {round(compression_ratio, 5)}')"
   ]
  },
  {
   "cell_type": "markdown",
   "id": "08bd5257",
   "metadata": {},
   "source": [
    "(Степень сжатия улучшилась примерно на 0.03 благодаря улучшению сжатия чисел)"
   ]
  }
 ],
 "metadata": {
  "kernelspec": {
   "display_name": "venv",
   "language": "python",
   "name": "python3"
  },
  "language_info": {
   "codemirror_mode": {
    "name": "ipython",
    "version": 3
   },
   "file_extension": ".py",
   "mimetype": "text/x-python",
   "name": "python",
   "nbconvert_exporter": "python",
   "pygments_lexer": "ipython3",
   "version": "3.12.0"
  }
 },
 "nbformat": 4,
 "nbformat_minor": 5
}
