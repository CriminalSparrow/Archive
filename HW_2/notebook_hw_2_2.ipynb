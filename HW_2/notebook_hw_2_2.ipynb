{
 "cells": [
  {
   "cell_type": "markdown",
   "id": "2f3cc1d0",
   "metadata": {},
   "source": [
    "# Задание 2.2 Кодирование марковского источника.\n",
    "  \n",
    "Для декапитализированного текста построить все контекстные модели 3-го порядка   \n",
    "(для каждого контекста собрать всю информацию, как в лекции 7).  \n",
    "Посчитать необходимый объём памяти для хранения всех моделей в несжатом виде.   \n",
    "Выбрать и обосновать способ кодирования для передачи модели декодеру,  \n",
    "указать длину получившегося кода и дать ссылку на использовавшиеся скрипты.  "
   ]
  },
  {
   "cell_type": "markdown",
   "id": "2c4e8a3b",
   "metadata": {},
   "source": [
    "Посчитаем для каждой подстроки длины 3 частоты её правого контекста длины 1 "
   ]
  },
  {
   "cell_type": "code",
   "execution_count": 1,
   "id": "8d57717f",
   "metadata": {},
   "outputs": [
    {
     "name": "stdout",
     "output_type": "stream",
     "text": [
      "imm : {'a': 22, 'o': 14, 'e': 99, 'i': 1, 'u': 1}\n",
      "kan : {'t': 1}\n",
      "rea : {'s': 1339, 't': 230, 'l': 545, 'd': 106, 'c': 40, 'f': 1, 'm': 10, 'k': 9, 'p': 3, 'n': 2, 'r': 2}\n",
      "pur : {'e': 807, 'p': 142, 's': 43, 'i': 13, 'a': 1}\n"
     ]
    }
   ],
   "source": [
    "from collections import defaultdict\n",
    "\n",
    "with open('decapitalized.txt', 'r', encoding='ASCII') as f:\n",
    "    text = f.read()\n",
    "\n",
    "\n",
    "max_order = 3\n",
    "counts = defaultdict(lambda: defaultdict(int))\n",
    "\n",
    "for i in range(max_order, len(text)):\n",
    "    context = text[i - max_order : i]  # берём 3 символа перед text[i]\n",
    "    next_char = text[i]\n",
    "    counts[context][next_char] += 1\n",
    "\n",
    "\n",
    "for test_context in ['imm', 'kan', 'rea', 'pur']:\n",
    "    print(f'{test_context} : {dict(counts[test_context])}')"
   ]
  },
  {
   "cell_type": "markdown",
   "id": "07018a8f",
   "metadata": {},
   "source": [
    "Посчитаем необходимый объём памяти для хранения всех моделей в несжатом виде.  \n",
    "Для каждой модели нужно хранить:  \n",
    "1. саму модель s (3 байта)  \n",
    "2. число $n_s$ символов, встречавшихся в контексте  \n",
    "3. сами встречавшиеся символы (по байту на символ)  \n",
    "4. частоты встречаемости символов в контексте ($n_s$ чисел)  "
   ]
  },
  {
   "cell_type": "code",
   "execution_count": 38,
   "id": "8cda3900",
   "metadata": {},
   "outputs": [],
   "source": [
    "def count_memory_size(models):\n",
    "    \"\"\" Вычисляет объем памяти, необходимый для хранения моделей \"\"\"\n",
    "    total_bytes = 0\n",
    "    for context, symbols in models.items():\n",
    "        # 1. Сам контекст s (3 байта)\n",
    "        total_bytes += 3\n",
    "        # 2. Число символов n_s (1 байт)\n",
    "        n_s = len(symbols)\n",
    "        total_bytes += 1\n",
    "        # 3. Сами символы (n_s байт)\n",
    "        total_bytes += n_s\n",
    "        # 4. Частоты встречаемости символов (n_s чисел по 4 байта каждое)\n",
    "        total_bytes += n_s * 4\n",
    "\n",
    "    return total_bytes  "
   ]
  },
  {
   "cell_type": "code",
   "execution_count": 39,
   "id": "0799b484",
   "metadata": {},
   "outputs": [
    {
     "name": "stdout",
     "output_type": "stream",
     "text": [
      "Для хранения всех моделей в несжатом виде требуется 167050 байт или 163.13 кб\n"
     ]
    }
   ],
   "source": [
    "memory_size = count_memory_size(counts)\n",
    "\n",
    "print(f'Для хранения всех моделей в несжатом виде требуется {memory_size} байт или {round(memory_size / 1024, 2)} кб')"
   ]
  },
  {
   "cell_type": "code",
   "execution_count": 40,
   "id": "37c9514c",
   "metadata": {},
   "outputs": [],
   "source": [
    "def encode_to_unified_raw(counts):\n",
    "    unified_raw = ''\n",
    "    for context, symbols in counts.items():\n",
    "        # Добавляем контекст и число символов\n",
    "        unified_raw += context\n",
    "        unified_raw += str(len(symbols))\n",
    "        # Добавляем пары (символ, частота)\n",
    "        for char, count in symbols.items():\n",
    "            unified_raw  += char\n",
    "            unified_raw += str(count)\n",
    "    return unified_raw"
   ]
  },
  {
   "cell_type": "code",
   "execution_count": 41,
   "id": "70145eff",
   "metadata": {},
   "outputs": [
    {
     "name": "stdout",
     "output_type": "stream",
     "text": [
      "   28 4633110t51b7p3\n"
     ]
    }
   ],
   "source": [
    "unified_raw = encode_to_unified_raw(counts)\n",
    "print(unified_raw[:20])"
   ]
  },
  {
   "cell_type": "markdown",
   "id": "b9862280",
   "metadata": {},
   "source": [
    "Попробуем сжать данную последовательность"
   ]
  },
  {
   "cell_type": "markdown",
   "id": "ef6374d2",
   "metadata": {},
   "source": [
    "Для сжатия возьмём lz77, реализованный в самом Питоне"
   ]
  },
  {
   "cell_type": "code",
   "execution_count": 77,
   "id": "490f67c6",
   "metadata": {},
   "outputs": [
    {
     "data": {
      "text/plain": [
       "b'   28 4633110t51b7p33m4n11q6i24d4h2\"1f3s53a32c25j1u52939r748o49l1e10g4w6-1  1571.15\\n5 2s1 17384\\n1)11'"
      ]
     },
     "execution_count": 77,
     "metadata": {},
     "output_type": "execute_result"
    }
   ],
   "source": [
    "import zlib\n",
    "\n",
    "# Преобразуем все элементы в строки и объединяем\n",
    "bytes_data = unified_raw.encode('ASCII')\n",
    "bytes_data[:100]"
   ]
  },
  {
   "cell_type": "code",
   "execution_count": 78,
   "id": "41e240ca",
   "metadata": {},
   "outputs": [
    {
     "name": "stdout",
     "output_type": "stream",
     "text": [
      "Для хранения моделей в сжатом виде необходимо 59.41 кб\n"
     ]
    }
   ],
   "source": [
    "compressed = zlib.compress(bytes_data, level=8)\n",
    "\n",
    "print(f'Для хранения моделей в сжатом виде необходимо {round(len(compressed) / 1024, 2)} кб')"
   ]
  },
  {
   "cell_type": "code",
   "execution_count": 64,
   "id": "874f8e6b",
   "metadata": {},
   "outputs": [
    {
     "data": {
      "text/plain": [
       "'   28 4633110t51b7p33m4n11q6i24d4h2\"1f3s53a32c25j1'"
      ]
     },
     "execution_count": 64,
     "metadata": {},
     "output_type": "execute_result"
    }
   ],
   "source": [
    "# 1. Декомпрессия\n",
    "decompressed_data = zlib.decompress(compressed)\n",
    "\n",
    "# 2. Декодирование в строку\n",
    "restored_str = decompressed_data.decode('ASCII')\n",
    "restored_str[:50]"
   ]
  },
  {
   "cell_type": "markdown",
   "id": "47a25fbe",
   "metadata": {},
   "source": [
    "## Представленные данные можно разбить на численные и буквенные последовательности, имея которые можно восстановить исходный марковский источник"
   ]
  },
  {
   "cell_type": "code",
   "execution_count": 44,
   "id": "300b7ca6",
   "metadata": {},
   "outputs": [
    {
     "name": "stdout",
     "output_type": "stream",
     "text": [
      "['   ', ' ', '1', 't', 'b', 'p', 'm', 'n', 'q', 'i']\n",
      "[28, 4633, 10, 51, 7, 33, 4, 11, 6, 24]\n"
     ]
    }
   ],
   "source": [
    "def split_model(counts):\n",
    "    char_sequence = []\n",
    "    num_sequence = []\n",
    "    for context, symbols in counts.items():\n",
    "        # 1. Добавляем контекст и символы в буквенную часть\n",
    "        char_sequence.append(context)\n",
    "        char_sequence.extend(symbols.keys())\n",
    "        # 2. Добавляем n_s и частоты в числовую часть\n",
    "        num_sequence.append(len(symbols))\n",
    "        num_sequence.extend(symbols.values())\n",
    "    return char_sequence, num_sequence\n",
    "\n",
    "char_sequence, num_sequence = split_model(counts)\n",
    "\n",
    "print(char_sequence[:10])\n",
    "print(num_sequence[:10])"
   ]
  },
  {
   "cell_type": "code",
   "execution_count": 45,
   "id": "7b31828e",
   "metadata": {},
   "outputs": [
    {
     "name": "stdout",
     "output_type": "stream",
     "text": [
      "34786\n",
      "34786\n"
     ]
    }
   ],
   "source": [
    "print(len(char_sequence))\n",
    "print(len(num_sequence))"
   ]
  },
  {
   "cell_type": "markdown",
   "id": "50899c26",
   "metadata": {},
   "source": [
    "### Сожмём числовую последовательность"
   ]
  },
  {
   "cell_type": "markdown",
   "id": "019928fd",
   "metadata": {},
   "source": [
    "Посмотрим на распределение чисел в num_sequence"
   ]
  },
  {
   "cell_type": "code",
   "execution_count": 10,
   "id": "89c38401",
   "metadata": {},
   "outputs": [
    {
     "name": "stdout",
     "output_type": "stream",
     "text": [
      "Максимальное число = 18302\n",
      "Минимальное число = 1\n",
      "Процент чисел, меньших 254 = 96.98%\n"
     ]
    }
   ],
   "source": [
    "print(f'Максимальное число = {max(num_sequence)}')\n",
    "print(f'Минимальное число = {min(num_sequence)}')\n",
    "\n",
    "counter = 0\n",
    "for i in num_sequence:\n",
    "    if i <= 254:\n",
    "        counter += 1\n",
    "\n",
    "print(f'Процент чисел, меньших 254 = {round(counter / len(num_sequence) * 100, 2)}%')"
   ]
  },
  {
   "cell_type": "markdown",
   "id": "449be603",
   "metadata": {},
   "source": [
    "#### Кодирование с переполнением"
   ]
  },
  {
   "cell_type": "markdown",
   "id": "314d65c3",
   "metadata": {},
   "source": [
    "То есть нам необходимо кодировать в основном маленькие числа из небольшого диапазона, для чего кодирование с переполнением отлично подходит.  \n",
    "Реализуем его по схеме из ДЗ 1.4 (<= 254 - 8 бит, >= 255 - 24 бита)"
   ]
  },
  {
   "cell_type": "code",
   "execution_count": 11,
   "id": "2a0ff970",
   "metadata": {},
   "outputs": [],
   "source": [
    "def encode_number(num):\n",
    "    result_bits = []\n",
    "\n",
    "    if num <= 254:\n",
    "        # Просто 8-битное представление\n",
    "        bits = f\"{num:08b}\"\n",
    "        result_bits.append(bits)\n",
    "    else:\n",
    "        # 11111111 префикс\n",
    "        result_bits.append(\"11111111\")\n",
    "        \n",
    "        value_to_encode = num - 255\n",
    "        \n",
    "        # Определяем число бит N в двоичном представлении числа \n",
    "        N = value_to_encode.bit_length()\n",
    "        \n",
    "        leading_zeros = 16 - N # количество ведущих нулей\n",
    "        \n",
    "        # Добавляем leading zeros\n",
    "        result_bits.append(\"0\" * leading_zeros)\n",
    "        \n",
    "        # Добавляем N битов (если N > 0)\n",
    "        if N > 0:\n",
    "            bits = f\"{value_to_encode:0{N}b}\"\n",
    "            result_bits.append(bits)\n",
    "    \n",
    "    return ''.join(result_bits)\n",
    "\n",
    "\n",
    "encoded_num_sequence = ''\n",
    "\n",
    "for num in num_sequence:\n",
    "    encoded_num_sequence += encode_number(num)"
   ]
  },
  {
   "cell_type": "code",
   "execution_count": 12,
   "id": "b37c902c",
   "metadata": {},
   "outputs": [
    {
     "name": "stdout",
     "output_type": "stream",
     "text": [
      "Длина кода фиксированной длины = 63.7 кб\n"
     ]
    }
   ],
   "source": [
    "num = 18302\n",
    "print(f'Длина кода фиксированной длины = {round(num.bit_length() * len(num_sequence) / 8 / 1024, 2)} кб')"
   ]
  },
  {
   "cell_type": "code",
   "execution_count": 13,
   "id": "fc912b76",
   "metadata": {},
   "outputs": [
    {
     "name": "stdout",
     "output_type": "stream",
     "text": [
      "Длина кода с переполнением = 36.02 кб\n"
     ]
    }
   ],
   "source": [
    "num_sequence_mem_size = round(len(encoded_num_sequence) / 8 / 1024, 2)\n",
    "print(f'Длина кода с переполнением = {num_sequence_mem_size} кб')"
   ]
  },
  {
   "cell_type": "markdown",
   "id": "deee851a",
   "metadata": {},
   "source": [
    "Можно заметить, что доля чисел <= 14 в последовательности = 70%. Поэтому попробуем другое деление:  \n",
    "4 бит для X <= 14  \n",
    "12 бит для 269 >= X >= 15  \n",
    "24 бит для X >= 270  "
   ]
  },
  {
   "cell_type": "code",
   "execution_count": 14,
   "id": "13593efa",
   "metadata": {},
   "outputs": [
    {
     "name": "stdout",
     "output_type": "stream",
     "text": [
      "28\n"
     ]
    },
    {
     "data": {
      "text/plain": [
       "'111100001101'"
      ]
     },
     "execution_count": 14,
     "metadata": {},
     "output_type": "execute_result"
    }
   ],
   "source": [
    "def encode_number(x):\n",
    "    result_bits = []\n",
    "\n",
    "    if x <= 14:\n",
    "        # 4-битное представление числа\n",
    "        bits = f\"{x:04b}\"\n",
    "        result_bits.append(bits)\n",
    "\n",
    "    elif 15 <= x <= 269:\n",
    "        result_bits.append(\"1111\")  # 4 бита\n",
    "\n",
    "        value_to_encode = x - 15\n",
    "\n",
    "        N = value_to_encode.bit_length()\n",
    "\n",
    "        leading_zeros = 8 - N\n",
    "\n",
    "        # Добавляем ведущие нули\n",
    "        result_bits.append(\"0\" * leading_zeros)\n",
    "\n",
    "        # Добавляем N бит (если N > 0)\n",
    "        if N > 0:\n",
    "            bits = f\"{value_to_encode:0{N}b}\"\n",
    "            result_bits.append(bits)\n",
    "\n",
    "    elif x >= 270:\n",
    "        result_bits.append(\"11111111\")  # 8 бит\n",
    "\n",
    "        value_to_encode = x - 255\n",
    "\n",
    "        N = value_to_encode.bit_length()\n",
    "\n",
    "        leading_zeros = 16 - N\n",
    "\n",
    "        result_bits.append(\"0\" * leading_zeros)\n",
    "\n",
    "        if N > 0:\n",
    "            bits = f\"{value_to_encode:0{N}b}\"\n",
    "            result_bits.append(bits)\n",
    "\n",
    "    else:\n",
    "        raise ValueError(\"Unsupported value X\")  # на всякий случай защита\n",
    "\n",
    "    return ''.join(result_bits)\n",
    "\n",
    "\n",
    "encoded_num_sequence_ver_2 = ''\n",
    "\n",
    "for num in num_sequence:\n",
    "    encoded_num_sequence_ver_2 += encode_number(num)\n",
    "\n",
    "print(num_sequence[0])\n",
    "encoded_num_sequence_ver_2[:12]"
   ]
  },
  {
   "cell_type": "code",
   "execution_count": 15,
   "id": "36134b0d",
   "metadata": {},
   "outputs": [
    {
     "name": "stdout",
     "output_type": "stream",
     "text": [
      "Длина кода с переполнением = 26.55 кб\n"
     ]
    }
   ],
   "source": [
    "num_sequence_mem_size = round(len(encoded_num_sequence_ver_2) / 8 / 1024, 2)\n",
    "print(f'Длина кода с переполнением = {num_sequence_mem_size} кб')"
   ]
  },
  {
   "cell_type": "markdown",
   "id": "90af3263",
   "metadata": {},
   "source": [
    "#### Кодирование дельта кодом Элиаса"
   ]
  },
  {
   "cell_type": "markdown",
   "id": "57f3509e",
   "metadata": {},
   "source": [
    "Реализация метода была взята отсюда https://github.com/keon/algorithms/blob/master/algorithms/compression/elias.py"
   ]
  },
  {
   "cell_type": "code",
   "execution_count": 20,
   "id": "5354955a",
   "metadata": {},
   "outputs": [
    {
     "data": {
      "text/plain": [
       "['110011100', '1110101001000011001', '11000010', '1101010011', '10111']"
      ]
     },
     "execution_count": 20,
     "metadata": {},
     "output_type": "execute_result"
    }
   ],
   "source": [
    "import elias\n",
    "\n",
    "delta_compressed_list = [elias.elias_delta(x) for x in num_sequence]\n",
    "\n",
    "delta_compressed_list[:5]"
   ]
  },
  {
   "cell_type": "code",
   "execution_count": 22,
   "id": "0943fc3b",
   "metadata": {},
   "outputs": [
    {
     "name": "stdout",
     "output_type": "stream",
     "text": [
      "Длина Дельта кода Элиаса = 25.18 кб\n"
     ]
    }
   ],
   "source": [
    "num_sequence_mem_size_delta = round(len(''.join(delta_compressed_list)) / 8 / 1024, 2)\n",
    "print(f'Длина Дельта кода Элиаса = {num_sequence_mem_size_delta} кб')"
   ]
  },
  {
   "cell_type": "markdown",
   "id": "a418bf5d",
   "metadata": {},
   "source": [
    "#### Кодирование кодами Фибоначчи"
   ]
  },
  {
   "cell_type": "code",
   "execution_count": 28,
   "id": "e544cf9d",
   "metadata": {},
   "outputs": [],
   "source": [
    "def fibonacci_coding(n):\n",
    "    if n == 0:\n",
    "        return \"11\"\n",
    "    \n",
    "    # Генерируем числа Фибоначчи до N\n",
    "    fib_sequence = [1, 2]\n",
    "    while fib_sequence[-1] <= n:\n",
    "        fib_sequence.append(fib_sequence[-1] + fib_sequence[-2])\n",
    "    fib_sequence = fib_sequence[:-1]  # Удаляем последний элемент\n",
    "    \n",
    "    code = ['0'] * (len(fib_sequence))\n",
    "    remainder = n\n",
    "    \n",
    "    # Проходим по числам Фибоначчи от большего к меньшему\n",
    "    for i in range(len(fib_sequence)-1, -1, -1):\n",
    "        if fib_sequence[i] <= remainder:\n",
    "            remainder -= fib_sequence[i]\n",
    "            code[i] = '1'\n",
    "    \n",
    "    # Добавляем завершающую 1\n",
    "    code.append('1')\n",
    "    \n",
    "    return ''.join(code)"
   ]
  },
  {
   "cell_type": "code",
   "execution_count": 29,
   "id": "e99873e1",
   "metadata": {},
   "outputs": [
    {
     "data": {
      "text/plain": [
       "['01010011', '0101010010001000011', '010011', '101001011', '01011']"
      ]
     },
     "execution_count": 29,
     "metadata": {},
     "output_type": "execute_result"
    }
   ],
   "source": [
    "fib_compressed_list = [fibonacci_coding(x) for x in num_sequence]\n",
    "\n",
    "fib_compressed_list[:5]"
   ]
  },
  {
   "cell_type": "code",
   "execution_count": 55,
   "id": "157c9a3a",
   "metadata": {},
   "outputs": [
    {
     "name": "stdout",
     "output_type": "stream",
     "text": [
      "Длина кода Фибоначчи = 21.13 кб\n"
     ]
    }
   ],
   "source": [
    "num_sequence_mem_size_fib = len(''.join(fib_compressed_list))\n",
    "print(f'Длина кода Фибоначчи = {round(num_sequence_mem_size_fib / 8 / 1024, 2)} кб')"
   ]
  },
  {
   "cell_type": "markdown",
   "id": "55ca2195",
   "metadata": {},
   "source": [
    "Код Фибоначчи победил"
   ]
  },
  {
   "cell_type": "markdown",
   "id": "b0937b00",
   "metadata": {},
   "source": [
    "### Сожмём последовательность символьную"
   ]
  },
  {
   "cell_type": "code",
   "execution_count": 74,
   "id": "ddb31c37",
   "metadata": {},
   "outputs": [
    {
     "data": {
      "text/plain": [
       "b'    1tbpmnqidh\"fsacju23r4olegw-  17.\\n s 178\\n)17817781\\n81\\n\\n1\\n\\n \\n\\n  \\n   hit*afwsnmbkeojv123ry4g(5dcplu'"
      ]
     },
     "execution_count": 74,
     "metadata": {},
     "output_type": "execute_result"
    }
   ],
   "source": [
    "# Преобразуем все элементы в строки и объединяем в одну строку\n",
    "bytes_data_char_sequence = ''.join(char_sequence).encode('ASCII')\n",
    "\n",
    "bytes_data_char_sequence[:100]"
   ]
  },
  {
   "cell_type": "code",
   "execution_count": 57,
   "id": "23e566c0",
   "metadata": {},
   "outputs": [
    {
     "name": "stdout",
     "output_type": "stream",
     "text": [
      "Для хранения буквенной последовательности в сжатом виде необходимо 29.36 кб\n"
     ]
    }
   ],
   "source": [
    "compressed_char_sequence = zlib.compress(bytes_data_char_sequence, level=8)\n",
    "\n",
    "print(f'Для хранения буквенной последовательности в сжатом виде необходимо {round(len(compressed_char_sequence) / 1024, 2)} кб')"
   ]
  },
  {
   "cell_type": "code",
   "execution_count": 59,
   "id": "97fb531e",
   "metadata": {},
   "outputs": [
    {
     "name": "stdout",
     "output_type": "stream",
     "text": [
      "В случае разбиения на числовую и буквенную последовательности необходимо памяти 50.49 кб\n",
      "Что позволило сэкономить 8.92 кб\n"
     ]
    }
   ],
   "source": [
    "full_mem_size = round((len(compressed_char_sequence) + num_sequence_mem_size_fib / 8) / 1024 , 2)\n",
    "print(f'В случае разбиения на числовую и буквенную последовательности необходимо памяти {full_mem_size} кб')\n",
    "\n",
    "print(f'Что позволило сэкономить {round(len(compressed) / 1024 - full_mem_size, 2)} кб')"
   ]
  },
  {
   "cell_type": "markdown",
   "id": "27c30d81",
   "metadata": {},
   "source": [
    "## Теперь попробуем сжать с помощью PPM, взятого из https://github.com/miurahr/pyppmd"
   ]
  },
  {
   "cell_type": "code",
   "execution_count": 28,
   "id": "1621d18f",
   "metadata": {},
   "outputs": [
    {
     "name": "stdout",
     "output_type": "stream",
     "text": [
      "Requirement already satisfied: pyppmd in c:\\users\\socol\\vs code projects\\archive\\venv\\lib\\site-packages (1.2.0)\n"
     ]
    }
   ],
   "source": [
    "!pip install pyppmd"
   ]
  },
  {
   "cell_type": "code",
   "execution_count": 60,
   "id": "b97405e5",
   "metadata": {},
   "outputs": [],
   "source": [
    "import pyppmd"
   ]
  },
  {
   "cell_type": "code",
   "execution_count": 65,
   "id": "6dfe65c7",
   "metadata": {},
   "outputs": [
    {
     "name": "stdout",
     "output_type": "stream",
     "text": [
      "Для хранения моделей в сжатом PPM виде необходимо 54.32 кб\n",
      "В случае LZ77 было необходимо 59.41 кб\n"
     ]
    }
   ],
   "source": [
    "compressed_by_PPM = pyppmd.compress(bytes_data)\n",
    "\n",
    "print(f'Для хранения моделей в сжатом PPM виде необходимо {round(len(compressed_by_PPM) / 1024, 2)} кб')\n",
    "print(f'В случае LZ77 было необходимо {round(len(compressed) / 1024, 2)} кб')"
   ]
  },
  {
   "cell_type": "code",
   "execution_count": 66,
   "id": "58cbf032",
   "metadata": {},
   "outputs": [
    {
     "name": "stdout",
     "output_type": "stream",
     "text": [
      "Для хранения буквенной последовательности в сжатом виде необходимо 28.61 кб\n"
     ]
    }
   ],
   "source": [
    "PPM_compressed_char_sequence = pyppmd.compress(bytes_data_char_sequence)\n",
    "\n",
    "print(f'Для хранения буквенной последовательности в сжатом виде необходимо {round(len(PPM_compressed_char_sequence) / 1024, 2)} кб')"
   ]
  },
  {
   "cell_type": "code",
   "execution_count": 67,
   "id": "e31f631b",
   "metadata": {},
   "outputs": [
    {
     "name": "stdout",
     "output_type": "stream",
     "text": [
      "В случае разбиения на числовую и буквенную последовательности необходимо памяти 49.74 кб\n",
      "Что позволило сэкономить 4.58 кб\n"
     ]
    }
   ],
   "source": [
    "full_mem_size = round((len(PPM_compressed_char_sequence) + num_sequence_mem_size_fib / 8) / 1024 , 2)\n",
    "print(f'В случае разбиения на числовую и буквенную последовательности необходимо памяти {full_mem_size} кб')\n",
    "\n",
    "print(f'Что позволило сэкономить {round(len(compressed_by_PPM) / 1024 - full_mem_size, 2)} кб')"
   ]
  },
  {
   "cell_type": "markdown",
   "id": "bcab071f",
   "metadata": {},
   "source": [
    "То есть простое сжатие без разбиения на числовую и буквенную последовательности в случае PPM метода не улучшило степень сжатия.  \n",
    "Возможная причина - в буквенную последовательность все равно входят не только буквы, но и цифры и другие символы"
   ]
  },
  {
   "cell_type": "code",
   "execution_count": null,
   "id": "05519f43",
   "metadata": {},
   "outputs": [
    {
     "name": "stdout",
     "output_type": "stream",
     "text": [
      "Полученная степень сжатия марковского источника с помощью кодирования Фибоначчи и PPM = 0.30489\n"
     ]
    }
   ],
   "source": [
    "compression_ratio = (len(PPM_compressed_char_sequence) + num_sequence_mem_size_fib / 8) / memory_size\n",
    "print(f'Полученная степень сжатия марковского источника с помощью кодирования Фибоначчи и PPM = {round(compression_ratio, 5)}')"
   ]
  },
  {
   "cell_type": "markdown",
   "id": "08bd5257",
   "metadata": {},
   "source": [
    "(Степень сжатия улучшилась примерно на 0.03 благодаря улучшению сжатия чисел)"
   ]
  }
 ],
 "metadata": {
  "kernelspec": {
   "display_name": "venv",
   "language": "python",
   "name": "python3"
  },
  "language_info": {
   "codemirror_mode": {
    "name": "ipython",
    "version": 3
   },
   "file_extension": ".py",
   "mimetype": "text/x-python",
   "name": "python",
   "nbconvert_exporter": "python",
   "pygments_lexer": "ipython3",
   "version": "3.12.0"
  }
 },
 "nbformat": 4,
 "nbformat_minor": 5
}
