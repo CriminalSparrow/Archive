{
 "cells": [
  {
   "cell_type": "markdown",
   "id": "7e8d545b",
   "metadata": {},
   "source": [
    "Updated:   \n",
    "1. Исправлена логика построения списка исключений;  \n",
    "2. Добавлены правила капитализации: \"God\", заглавная после 2 заглавных;   \n",
    "3. Для подсчёта длины арифметического кода добавлена длина передаваемой статистики.   \n",
    "  \n",
    "Степень сжатия отличается от энтропии на 4-ом знаке    \n",
    "Размер бинарной маски исключений стал в 2.6 раз меньше  "
   ]
  },
  {
   "cell_type": "markdown",
   "id": "bac5aaff",
   "metadata": {},
   "source": [
    "# Декапитализация"
   ]
  },
  {
   "cell_type": "markdown",
   "id": "a8266363",
   "metadata": {},
   "source": [
    "Возьмём текст \"Критика чистого разума\" Иммануила Канта (text.txt) и применим к нему build_exceptions, строющую исключения их стандартных правил капитализации."
   ]
  },
  {
   "cell_type": "code",
   "execution_count": null,
   "id": "6a707c54",
   "metadata": {},
   "outputs": [],
   "source": [
    "import re\n",
    "\n",
    "def build_exceptions(text):\n",
    "    should_be_uppercase = [0] * len(text)\n",
    "\n",
    "    # Правило 1: первая буква текста\n",
    "    for i, c in enumerate(text):\n",
    "        if c.isalpha():\n",
    "            should_be_uppercase[i] = 1\n",
    "            break\n",
    "\n",
    "    # Правило 2: после [.?!] + пробелы/перевод строки/кавычки/скобки\n",
    "    pattern = re.compile(r'[\\.\\!\\?][\\'\\\"\\)\\]\\}]*[\\s\\n]+([A-Za-z])')\n",
    "    for match in pattern.finditer(text):\n",
    "        idx = match.start(1)\n",
    "        should_be_uppercase[idx] = 1\n",
    "\n",
    "    # Правило 3: одиночная I\n",
    "    for match in re.finditer(r'\\bI\\b', text):\n",
    "        idx = match.start()\n",
    "        should_be_uppercase[idx] = 1\n",
    "\n",
    "\n",
    "    # Правило 4: Имена, которые всегда с заглавной буквы\n",
    "    special_words = ['God']\n",
    "\n",
    "    for word in special_words:\n",
    "        pattern = re.compile(rf'\\b{re.escape(word)}\\b', flags=re.IGNORECASE)\n",
    "        for match in pattern.finditer(text):\n",
    "            idx = match.start()\n",
    "            # Отмечаем первую букву как \"должна быть заглавной\"\n",
    "            should_be_uppercase[idx] = 1\n",
    "\n",
    "    # Правило 5: после двух заглавных\n",
    "    uppercase_streak = 0\n",
    "    for i, c in enumerate(text):\n",
    "        if c.isupper():\n",
    "            uppercase_streak += 1\n",
    "        elif c == ' ':\n",
    "            pass\n",
    "        else:\n",
    "            # Если встречается любой не пробел и не заглавная, сбрасываем счётчик\n",
    "            uppercase_streak = 0\n",
    "\n",
    "        # Если >= 2 заглавных до этой буквы, ожидаем, что текущая буква должна быть заглавной\n",
    "        if c.isalpha() and uppercase_streak >= 2:\n",
    "            should_be_uppercase[i] = 1\n",
    "\n",
    "    # Строим битовый массив исключений\n",
    "    exceptions = [0] * len(text)\n",
    "    for i, c in enumerate(text):\n",
    "        if c.isalpha():\n",
    "            expected_upper = should_be_uppercase[i]\n",
    "            actual_upper = int(c.isupper())\n",
    "            if expected_upper != actual_upper:\n",
    "                exceptions[i] = 1\n",
    "\n",
    "    return exceptions\n",
    "\n",
    "def decapitalize(text):\n",
    "    return ''.join(c.lower() if c.isupper() else c for c in text)\n",
    "\n",
    "# Чтение файла\n",
    "filename = 'text.txt'\n",
    "with open(filename, 'r', encoding='ASCII') as f:\n",
    "    text = f.read()\n",
    "\n",
    "exceptions = build_exceptions(text)\n",
    "lower_text = decapitalize(text)\n",
    "\n",
    "# Сохранение результатов\n",
    "with open('decapitalized.txt', 'w', encoding='ASCII') as f:\n",
    "    f.write(lower_text)\n",
    "\n",
    "with open('exceptions.txt', 'w', encoding='ASCII') as f:\n",
    "    f.write(''.join(str(j) for j in exceptions))\n"
   ]
  },
  {
   "cell_type": "markdown",
   "id": "01ddb926",
   "metadata": {},
   "source": [
    "Использованные правила капитализации:\n",
    "1. Стандартные (Первая буква текста, одиночная I, после .!?);\n",
    "2. Слова, которе всегда пишутся с заглавной буквы ('God');\n",
    "3. Заглавная после двух заглавных подряд."
   ]
  },
  {
   "cell_type": "code",
   "execution_count": 3,
   "id": "017e4f15",
   "metadata": {},
   "outputs": [],
   "source": [
    "filename = 'text.txt'\n",
    "with open(filename, 'r', encoding='ASCII') as f:\n",
    "    text = f.read()"
   ]
  },
  {
   "cell_type": "code",
   "execution_count": 4,
   "id": "3fbe73b5",
   "metadata": {},
   "outputs": [
    {
     "name": "stdout",
     "output_type": "stream",
     "text": [
      "Символов в тексте: 1268316\n",
      "Количество заглавных букв в тексте: 10131\n"
     ]
    }
   ],
   "source": [
    "print(f'Символов в тексте: {len(text)}')\n",
    "\n",
    "uppercase_count = sum(1 for char in text if char.isupper())\n",
    "print(f\"Количество заглавных букв в тексте: {uppercase_count}\")"
   ]
  },
  {
   "cell_type": "code",
   "execution_count": 5,
   "id": "f930b03c",
   "metadata": {},
   "outputs": [],
   "source": [
    "filename = 'exceptions.txt'\n",
    "with open(filename, 'r', encoding='ASCII') as f:\n",
    "    exceptions_text = f.read()"
   ]
  },
  {
   "cell_type": "markdown",
   "id": "2979396a",
   "metadata": {},
   "source": [
    "Посмотрим на исключения:"
   ]
  },
  {
   "cell_type": "markdown",
   "id": "bb286570",
   "metadata": {},
   "source": [
    "Для проверки того, что 'God' не записывается в исключения можно использовать  \n",
    "letter_from = 45915  \n",
    "letter_to = 50000  "
   ]
  },
  {
   "cell_type": "code",
   "execution_count": 6,
   "id": "62668db5",
   "metadata": {},
   "outputs": [
    {
     "name": "stdout",
     "output_type": "stream",
     "text": [
      "                                                                                                                                      I        K                                          J                                P                                     H                                                                                                                                                                                                                                                                                                                                                                                                                                                                                                                                                                                                                                                                                                                                                                                                                                                                                                                                                                                                                                                                                                                                                                                                                                   M                                                                                                                                                                                                                                                                                                                                               H                          M                                   T                                                                              O     M                      B                                                         n                                                                                                                                                                                                                                                                                                                                                                                                                                                                                                                                                                                                                                                                                                                                                                                                                                                                                           L                                                                                                                                                                                                                                                                                                                                                                                                                                                                                                                                                                                                                                                                                                                                                                                                                                                                                                                                                                                                                                                                                                                                                                                                                                                                                                                                                                                                                                                                                                                                                                                                                                                                                                                                                                                                    I                                                                                                                                                                                                                                                                                                                                                                                                                                         W                                                                                                                                                                                                                                                                                                                                                                                                                                                                                                                                                                                                                                                                                                                                                                                                                                                                                                                                                                                                                                                                                                                                                                                                                                                                                                                                                                                                                                                                                                                                                                                                                                                                                                                                                                                                                                                                                                                                                                                                                                                                                                                                                                                                                                                                                                                                                                                                                                                                                                                                                                                                                                                                                                                                                                                                                                                                                                                                                                                                                                                                                                                                                                                                                                                                                                                                                                                                                                                                                                                                                                                                                                                                                                                                                                                                                                                                                                                                                                                                                                                                                                                                                                                                                                                                                                                                                                                                                                                                                                                                                                                                                                                                                                                                                                                                                                                                                                                                                                                                                                                                                                                                                                          \n",
      "                                      1781                            THE CRITIQUE OF PURE REASON                                  by Immanuel Kant                         translated by J. M. D. Meiklejohn              PREFACE TO THE FIRST EDITION, 1781    Human reason, in one sphere of its cognition, is called upon to consider questions, which it cannot decline, as they are presented by its own nature, but which it cannot answer, as they transcend every faculty of the mind.    It falls into this difficulty without any fault of its own. It begins with principles, which cannot be dispensed with in the field of experience, and the truth and sufficiency of which are, at the same time, insured by experience. With these principles it rises, in obedience to the laws of its own nature, to ever higher and more remote conditions. But it quickly discovers that, in this way, its labours must remain ever incomplete, because new questions never cease to present themselves; and thus it finds itself compelled to have recourse to principles which transcend the region of experience, while they are regarded by common sense without distrust. It thus falls into confusion and contradictions, from which it conjectures the presence of latent errors, which, however, it is unable to discover, because the principles it employs, transcending the limits of experience, cannot be tested by that criterion. The arena of these endless contests is called Metaphysic.    Time was, when she was the queen of all the sciences; and, if we take the will for the deed, she certainly deserves, so far as regards the high importance of her object-matter, this title of honour. Now, it is the fashion of the time to heap contempt and scorn upon her; and the matron mourns, forlorn and forsaken, like Hecuba:                    Modo maxima rerum,                  Tot generis, natisque potens...                  Nunc trahor exul, inops.*    *Ovid, Metamorphoses. [xiii, \"But late on the pinnacle of fame, strong in my many sons. now exiled, penniless.\"]    At first, her government, under the administration of the dogmatists, was an absolute despotism. But, as the legislative continued to show traces of the ancient barbaric rule, her empire gradually broke up, and intestine wars introduced the reign of anarchy; while the sceptics, like nomadic tribes, who hate a permanent habitation and settled mode of living, attacked from time to time those who had organized themselves into civil communities. But their number was, very happily, small; and thus they could not entirely put a stop to the exertions of those who persisted in raising new edifices, although on no settled or uniform plan. In recent times the hope dawned upon us of seeing those disputes settled, and the legitimacy of her claims established by a kind of physiology of the human understanding- that of the celebrated Locke. But it was found that- although it was affirmed that this so-called queen could not refer her descent to any higher source than that of common experience, a circumstance which necessarily brought suspicion on her claims- as this genealogy was incorrect, she persisted in the advancement of her claims to sovereignty. Thus metaphysics necessarily fell back into the antiquated and rotten constitution of dogmatism, and again became obnoxious to the contempt from which efforts had been made to save it. At present, as all methods, according to the general persuasion, have been tried in vain, there reigns nought but weariness and complete indifferentism- the mother of chaos and night in the scientific world, but at the same time the source of, or at least the prelude to, the re-creation and reinstallation of a science, when it has fallen into confusion, obscurity, and disuse from ill directed effort.    For it is in reality vain to profess indifference in regard to such inquiries, the object of which cannot be indifferent to humanity. Besides, these pretended indifferentists, however much they may try to disguise themselves by the assumption of a popular style and by changes on the language of the schools, unavoidably fall into metaphysical declarations and propositions, which they profess to regard with so much contempt. At the same time, this indifference, which has arisen in the world of science, and which relates to that kind of knowledge which we should wish to see destroyed the last, is a phenomenon that well deserves our attention and reflection. It is plainly not the effect of the levity, but of the matured judgement* of the age, which refuses to be any longer entertained with illusory knowledge, It is, in fact, a call to reason, again to undertake the most laborious of all tasks- that of self-examination- and to establish a tribunal, which may secure it in its well-grounded claims, while it pronounces against all baseless assumptions and pretensions, not in an arbitrary manner, but according to its own eternal and unchangeable laws. This tribunal is nothing less than the critical investigation of pure reason.    *We very often hear complaints of the shallowness of the present age, and of the decay of profound science. But I do not think that those which rest upon a secure foundation, such as mathematics, physical science, etc., in the least deserve this reproach, but that they rather maintain their ancient fame, and in the latter case, indeed, far surpass it. The same would be the case with the other kinds of cognition, if their principles were but firmly established. In the absence of this security, indifference, doubt, and finally, severe criticism are rather signs of a profound habit of thought. Our age is the age of criticism, to which everything must be subjected. The sacredness of religion, and the authority of legislation, are by many regarded as grounds of exemption from the examination of this tribunal. But, if they on they are exempted, they become the subjects of just suspicion, and cannot lay claim to sincere respect, which reason accords only to that which has stood the test of a free and public examination.    I do not mean by this a criticism of books and systems, but a critical inquiry into the faculty of reason, with reference to the cognitions to which it strives to attain without the aid of experience; in other words, the solution of the question regarding the possibility or impossibility of metaphysics, and the determination of the origin, as well as of the extent and limits of this science. All this must be done on the basis of principles.    This path- the only one now remaining- has been entered upon by me; and I flatter myself that I have, in this way, discovered the cause of- and consequently the mode of removing- all the errors which have hitherto set reason at variance with itself, in the sphere of non-empirical thought. I have not returned an evasive answer to the questions of reason, by alleging the inability and limitation of the faculties of the mind; I have, on the contrary, examined them completely in the light of principles, and, after having discovered the cause of the doubts and contradictions into which reason fell, have solved them to its perfect satisfaction. It is true, these questions have not been solved as dogmatism, in its vain fancies and desires, had expected; for it can only be satisfied by the exercise of magical arts, and of these I have no knowledge. But neither do these come within the compass of our mental powers; and it was the duty of philosophy to destroy the illusions which had their origin in misconceptions, whatever darling hopes and valued expectations may be ruined by its explanations. My chief aim in this work has been thoroughness; and I make bold to say that there is not a single metaphysical problem that does not find its solution, or at least the key to its solution, here. Pure reason is a perfect unity; and therefore, if the if the principle presented by it prove to be insufficient for the solution of even a single one of those questions to which the very nature of reason gives birth, we must reject it, as we could not be perfectly certain of its sufficiency in the case of the others.    While I say this, I think I see upon the countenance of the reader signs of dissatisfaction mingled with contempt, when he hears declarations which sound so boastful and extravagant; and yet they are beyond comparison more moderate than those advanced by the commonest author of the commonest philosophical programme, in which the dogmatist professes to demonstrate the simple nature of the soul, or the necessity of a primal being. Such a dogmatist promises to extend human knowledge beyond the limits of possible experience; while I humbly confess that this is completely beyond my power. Instead of any such attempt, I confine myself to the examination of reason alone and its pure thought; and I do not need to seek far for the sum-total of its cognition, because it has its seat in my own mind. Besides, common logic presents me with a complete and systematic catalogue of all the simple operations of reason; and it is my task to answer the question how far reason can go, without the material presented and the aid furnished by experience.    So much for the completeness and thoroughness necessary in the execution of the present task. The aims set before us are not arbitrarily proposed, but are imposed upon us by the nature of cognition itself.    The above remarks relate to the matter of our critical inquiry. As regards the form, there are two indispensable conditions, which any one who undertakes so difficult a task as that of a critique of pure reason, is bound to fulfil. These conditions are certitude and clearness.    As regards certitude, I have fully convinced myself that, in this sphere of thought, opinion is perfectly inadmissible, and that everything which bears the least semblance of an hypothesis must be excluded, as of no value in such discussions. For it is a necessary condition of every cognition that is to be established upon a prio\n"
     ]
    }
   ],
   "source": [
    "letter_from = 0\n",
    "letter_to = 10_000\n",
    "\n",
    "print(''.join([text[i] if exceptions_text[i] == '1' else ' ' for i in range(letter_from, letter_to)]))\n",
    "print(''.join([text[i] if text[i] != '\\n' else ' ' for i in range(letter_from, letter_to)]))"
   ]
  },
  {
   "cell_type": "code",
   "execution_count": 24,
   "id": "bbcd33cb",
   "metadata": {},
   "outputs": [
    {
     "name": "stdout",
     "output_type": "stream",
     "text": [
      "Всего символов: 1268316\n",
      "Всего исключений: 1569\n",
      "Доля исключений из всего текста: 0.124%\n",
      "Число объяснённых заглавных букв правилами капитализации = 8562\n",
      "Доля объяснённый заглавных букв правилами капитализации = 84.51%\n"
     ]
    }
   ],
   "source": [
    "exceptions_amount = sum(exceptions)\n",
    "\n",
    "print(f'Всего символов: {len(exceptions)}')\n",
    "print(f'Всего исключений: {exceptions_amount}')\n",
    "percent_1 = exceptions_amount / len(exceptions)\n",
    "print(f'Доля исключений из всего текста: {round(percent_1 * 100, 3)}%')\n",
    "\n",
    "print(f'Число объяснённых заглавных букв правилами капитализации = {uppercase_count - exceptions_amount}')\n",
    "print(f'Доля объяснённый заглавных букв правилами капитализации = {round((uppercase_count - exceptions_amount) / uppercase_count * 100, 2)}%')"
   ]
  },
  {
   "cell_type": "code",
   "execution_count": 25,
   "id": "f7e63385",
   "metadata": {},
   "outputs": [
    {
     "name": "stdout",
     "output_type": "stream",
     "text": [
      "Энтропия = 0.0137323 \n",
      "\n",
      "Если передать позиции 1569 исключений, зашифровав в 21 бит каждое, то получится 32949 бит или 4.02 кб\n",
      "Тогда степень сжатия = 0.02598 => baseline = 2.6% сжатия битовой маски\n"
     ]
    }
   ],
   "source": [
    "import math\n",
    "entropy = -(math.log2(percent_1)*percent_1 + math.log2(1-percent_1)*(1-percent_1))\n",
    "print(f'Энтропия = {round(entropy, 7)} \\n')\n",
    "\n",
    "print(f'Если передать позиции {exceptions_amount} исключений, зашифровав в 21 бит каждое, то получится {exceptions_amount * 21} бит или {round(exceptions_amount * 21 / 8 / 1024, 2)} кб')\n",
    "print(f'Тогда степень сжатия = {round(exceptions_amount * 21 / len(exceptions), 5)} => baseline = {round(exceptions_amount * 21 / len(exceptions) * 100, 2)}% сжатия битовой маски')"
   ]
  },
  {
   "cell_type": "markdown",
   "id": "37563105",
   "metadata": {},
   "source": [
    "# Арифметическое кодирование\n"
   ]
  },
  {
   "cell_type": "markdown",
   "id": "690e083c",
   "metadata": {},
   "source": [
    "Алгоритм взят отсюда: https://github.com/tommyod/arithmetic-coding "
   ]
  },
  {
   "cell_type": "code",
   "execution_count": 26,
   "id": "7f8ac2b2",
   "metadata": {},
   "outputs": [
    {
     "data": {
      "text/plain": [
       "[1, 1, 0, 1, 1, 0, 0, 0, 1, 1]"
      ]
     },
     "execution_count": 26,
     "metadata": {},
     "output_type": "execute_result"
    }
   ],
   "source": [
    "from arithmetic_coding import ArithmeticEncoder\n",
    "\n",
    "\n",
    "message = [str(i) for i in exceptions] + ['<EOM>']\n",
    "frequencies = {'0': len(exceptions) - exceptions_amount, '1': exceptions_amount, '<EOM>':1}\n",
    "encoder = ArithmeticEncoder(frequencies=frequencies, bits=128)\n",
    "bits = list(encoder.encode(message))\n",
    "bits[:10]"
   ]
  },
  {
   "cell_type": "markdown",
   "id": "c4fab690",
   "metadata": {},
   "source": [
    "Декодеру ещё необходимо передать:\n",
    "1. Количество имён (символов), частоты которых считали\n",
    "1. Список имён, частоты которых считали\n",
    "2. Их частоты\n",
    "3. Список имён - исключений ('God')"
   ]
  },
  {
   "cell_type": "code",
   "execution_count": 27,
   "id": "04851ecf",
   "metadata": {},
   "outputs": [],
   "source": [
    "def compute_total_encoded_size(bits, frequencies, names_list):\n",
    "    # Длина основного сообщения\n",
    "    message_bits_len = len(bits)\n",
    "\n",
    "    # Длина передаваемой таблицы частот\n",
    "    num_symbols_bits = 8  # 1 байт для передачи количества символов\n",
    "\n",
    "    per_symbol_bits = 0\n",
    "    for symbol, freq in frequencies.items():\n",
    "        symbol_bytes = symbol.encode('ASCII')\n",
    "        symbol_length = len(symbol_bytes)\n",
    "\n",
    "        symbol_bits = symbol_length * 8  # всего байт на кодируемое имя (<EOM> - 5 байт)\n",
    "\n",
    "        # На частоту:\n",
    "        freq_bits = 32  # 4 байта на частоту\n",
    "\n",
    "        per_symbol_bits += symbol_bits + freq_bits\n",
    "\n",
    "    total_freq_bits = num_symbols_bits + per_symbol_bits\n",
    "\n",
    "    # Длина передаваемого списка имён\n",
    "    # Считаем, что имена кодируются как ASCII + b'\\x00' после каждого имени\n",
    "    delimiter = b'\\x00'\n",
    "    names_bytes = bytearray()\n",
    "    for s in names_list:\n",
    "        names_bytes.extend(s.encode('ASCII') + delimiter)\n",
    "\n",
    "    names_bits_len = len(names_bytes) * 8\n",
    "\n",
    "    # Общая длина\n",
    "    total_bits = message_bits_len + total_freq_bits + names_bits_len\n",
    "\n",
    "    # Выводим подробности\n",
    "    print(f'Длина основного сообщения: {message_bits_len} бит')\n",
    "    print(f'Длина таблицы частот: {total_freq_bits} бит')\n",
    "    print(f'Длина списка имён: {names_bits_len} бит')\n",
    "    print(f'Общая длина: {total_bits} бит')\n",
    "\n",
    "    return total_bits\n"
   ]
  },
  {
   "cell_type": "code",
   "execution_count": 31,
   "id": "c8ab8b54",
   "metadata": {},
   "outputs": [
    {
     "name": "stdout",
     "output_type": "stream",
     "text": [
      "Длина основного сообщения: 17440 бит\n",
      "Длина таблицы частот: 160 бит\n",
      "Длина списка имён: 32 бит\n",
      "Общая длина: 17632 бит\n"
     ]
    }
   ],
   "source": [
    "total_lenght = compute_total_encoded_size(bits, frequencies, ['God'])\n"
   ]
  },
  {
   "cell_type": "code",
   "execution_count": null,
   "id": "521f3a4a",
   "metadata": {},
   "outputs": [
    {
     "name": "stdout",
     "output_type": "stream",
     "text": [
      "Длина получившейся битовой строки = 17632 бит или 2.152 кб\n",
      "Что составляет 0.0139 от длины всей маски исключений\n",
      "\n",
      "Степень сжатия больше энтропии на 0.00017\n",
      "Полученный результат уже достаточно хорош, чтобы мы могли выбрать арифметическое кодирование\n"
     ]
    }
   ],
   "source": [
    "print(f'Длина получившейся битовой строки = {total_lenght} бит или {round(total_lenght / 8 / 1024, 3)} кб')\n",
    "print(f'Что составляет {round(total_lenght / len(exceptions), 5)} от длины всей маски исключений\\n')\n",
    "\n",
    "print(f'Степень сжатия больше энтропии на {round(total_lenght / len(exceptions) - entropy, 5)}')\n",
    "print(f'Полученный результат уже достаточно хорош, чтобы мы могли выбрать арифметическое кодирование')"
   ]
  }
 ],
 "metadata": {
  "kernelspec": {
   "display_name": "venv",
   "language": "python",
   "name": "python3"
  },
  "language_info": {
   "codemirror_mode": {
    "name": "ipython",
    "version": 3
   },
   "file_extension": ".py",
   "mimetype": "text/x-python",
   "name": "python",
   "nbconvert_exporter": "python",
   "pygments_lexer": "ipython3",
   "version": "3.12.0"
  }
 },
 "nbformat": 4,
 "nbformat_minor": 5
}
