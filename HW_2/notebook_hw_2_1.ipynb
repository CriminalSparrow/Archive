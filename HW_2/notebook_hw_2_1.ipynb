{
 "cells": [
  {
   "cell_type": "markdown",
   "id": "a8266363",
   "metadata": {},
   "source": [
    "Возьмём текст \"Критика чистого разума\" Иммануила Канта (text.txt) и применим к нему build_exceptions, строющую исключения их стандартных правил капитализации."
   ]
  },
  {
   "cell_type": "code",
   "execution_count": 1,
   "id": "75313069",
   "metadata": {},
   "outputs": [],
   "source": [
    "import re\n",
    "import sys\n",
    "\n",
    "def build_exceptions(text):\n",
    "    exceptions = [0] * len(text)\n",
    "    \n",
    "    # правило 1: первая буква текста\n",
    "    for i, c in enumerate(text):\n",
    "        if c.isalpha():\n",
    "            if c.isupper():\n",
    "                exceptions[i] = 0\n",
    "            break\n",
    "\n",
    "    # правило 2: после [.?!] и пробела/переноса строки\n",
    "    for match in re.finditer(r'[\\.\\!\\?][\\s\\n]+([A-Za-z])', text):\n",
    "        idx = match.start(1)\n",
    "        if text[idx].isupper():\n",
    "            exceptions[idx] = 0 \n",
    "\n",
    "    # правило 3: одиночная 'I'\n",
    "    for match in re.finditer(r'[^A-Za-z]I[^A-Za-z]', text):\n",
    "        idx = match.start() + 1\n",
    "        if text[idx] == 'I':\n",
    "            exceptions[idx] = 0\n",
    "\n",
    "    # все остальные заглавные — исключения\n",
    "    for i, c in enumerate(text):\n",
    "        if c.isupper() and exceptions[i] == 0:\n",
    "            # если это не по правилу, ставим 1\n",
    "            is_exception = True\n",
    "            # (уже учтено? если да — пропускаем)\n",
    "            if (\n",
    "                i == 0 or\n",
    "                (i > 1 and text[i-2:i] in {'. ', '! ', '? ', '.\\n', '!\\n', '?\\n'}) or\n",
    "                (i > 0 and text[i-1] == ' ' and i+1 < len(text) and text[i+1] == ' ')\n",
    "            ):\n",
    "                is_exception = False\n",
    "            if is_exception:\n",
    "                exceptions[i] = 1\n",
    "\n",
    "    return exceptions\n",
    "\n",
    "def decapitalize(text):\n",
    "    return ''.join(c.lower() if c.isupper() else c for c in text)\n",
    "\n",
    "\n",
    "filename = 'text.txt'\n",
    "with open(filename, 'r', encoding='ASCII') as f:\n",
    "    text = f.read()\n",
    "\n",
    "exceptions = build_exceptions(text)\n",
    "lower_text = decapitalize(text)\n",
    "\n",
    "# Сохраняем результат\n",
    "with open('decapitalized.txt', 'w', encoding='ASCII') as f:\n",
    "    f.write(lower_text)\n",
    "\n",
    "with open('exceptions.txt', 'w', encoding='ASCII') as f:\n",
    "    f.write(''.join((str(j) for j in exceptions)))"
   ]
  },
  {
   "cell_type": "markdown",
   "id": "01ddb926",
   "metadata": {},
   "source": [
    "Используем лишь стандартные правила капитализации.  \n",
    "Как выяснится дальше, число заглавных букв и так невелико, а число полученных исключений = 1/260 от длины всего текста"
   ]
  },
  {
   "cell_type": "code",
   "execution_count": 1,
   "id": "017e4f15",
   "metadata": {},
   "outputs": [],
   "source": [
    "filename = 'text.txt'\n",
    "with open(filename, 'r', encoding='ASCII') as f:\n",
    "    text = f.read()"
   ]
  },
  {
   "cell_type": "code",
   "execution_count": 5,
   "id": "3fbe73b5",
   "metadata": {},
   "outputs": [
    {
     "name": "stdout",
     "output_type": "stream",
     "text": [
      "Символов в тексте: 1268316\n",
      "Количество заглавных букв в файле: 10131\n"
     ]
    }
   ],
   "source": [
    "print(f'Символов в тексте: {len(text)}')\n",
    "\n",
    "uppercase_count = sum(1 for char in text if char.isupper())\n",
    "print(f\"Количество заглавных букв в файле: {uppercase_count}\")"
   ]
  },
  {
   "cell_type": "code",
   "execution_count": 15,
   "id": "f930b03c",
   "metadata": {},
   "outputs": [],
   "source": [
    "filename = 'exceptions.txt'\n",
    "with open(filename, 'r', encoding='ASCII') as f:\n",
    "    exceptions_text = f.read()"
   ]
  },
  {
   "cell_type": "code",
   "execution_count": null,
   "id": "bbcd33cb",
   "metadata": {},
   "outputs": [
    {
     "name": "stdout",
     "output_type": "stream",
     "text": [
      "1268316\n",
      "Всего исключений: 4835\n",
      "Доля исключений из всего текста: 0.381% (1/260)\n",
      "Число объяснённых заглавных букв стандартными правилами капитализации = 5296\n"
     ]
    }
   ],
   "source": [
    "print(len(exceptions))\n",
    "print(f'Всего исключений: {sum(exceptions)}')\n",
    "percent_1 = round(sum(exceptions) / len(exceptions), 5)\n",
    "print(f'Доля исключений из всего текста: {percent_1 * 100}% (1/260)')\n",
    "\n",
    "print(f'Число объяснённых заглавных букв стандартными правилами капитализации = {uppercase_count - sum(exceptions)}')"
   ]
  },
  {
   "cell_type": "markdown",
   "id": "60a8ff38",
   "metadata": {},
   "source": [
    "Почти половина всех заглавных букв была объяснена стандартными правилами капитализации.  \n",
    "В тексте можно найти ещё пару правил, например, часто встречаются комментарии вида:\n",
    "текст*  \n",
    "   \n",
    "*Комментарий [Продолжение комментария \"Цитата\"]\n",
    "\n",
    "Но большое количество заглавных букв получается из-за того, что часто названия глав и разделов написаны капсом\n"
   ]
  },
  {
   "cell_type": "code",
   "execution_count": 94,
   "id": "f7e63385",
   "metadata": {},
   "outputs": [
    {
     "name": "stdout",
     "output_type": "stream",
     "text": [
      "Энтропия = 0.0361033181 \n",
      "\n",
      "Если передать позиции 4835 исключений, зашифровав в 21 бит каждое, то получится 101535 бит или 12.39 кб\n",
      "Тогда степень сжатия = 0.08005 => baseline = 8% сжатия битовой маски\n"
     ]
    }
   ],
   "source": [
    "import math\n",
    "entropy = -(math.log2(percent_1)*percent_1 + math.log2(1-percent_1)*(1-percent_1))\n",
    "print(f'Энтропия = {round(entropy, 10)} \\n')\n",
    "\n",
    "print(f'Если передать позиции 4835 исключений, зашифровав в 21 бит каждое, то получится {4835*21} бит или {round(4835*21 / 8 / 1024, 2)} кб')\n",
    "print(f'Тогда степень сжатия = {round(4835*21 / len(exceptions), 5)} => baseline = 8% сжатия битовой маски')"
   ]
  },
  {
   "cell_type": "markdown",
   "id": "37563105",
   "metadata": {},
   "source": [
    "# Арифметическое кодирование\n"
   ]
  },
  {
   "cell_type": "markdown",
   "id": "690e083c",
   "metadata": {},
   "source": [
    "Алгоритм взят отсюда: https://github.com/tommyod/arithmetic-coding "
   ]
  },
  {
   "cell_type": "code",
   "execution_count": 98,
   "id": "7f8ac2b2",
   "metadata": {},
   "outputs": [
    {
     "data": {
      "text/plain": [
       "[1, 1, 0, 0, 0, 0, 1, 1, 1, 1]"
      ]
     },
     "execution_count": 98,
     "metadata": {},
     "output_type": "execute_result"
    }
   ],
   "source": [
    "from arithmetic_coding import ArithmeticEncoder\n",
    "\n",
    "\n",
    "message = [str(i) for i in exceptions] + ['<EOM>']\n",
    "frequencies = {'0': len(exceptions) - sum(exceptions), '1': 4835, '<EOM>':1}\n",
    "encoder = ArithmeticEncoder(frequencies=frequencies, bits=128)\n",
    "bits = list(encoder.encode(message))\n",
    "bits[:10]"
   ]
  },
  {
   "cell_type": "code",
   "execution_count": 97,
   "id": "521f3a4a",
   "metadata": {},
   "outputs": [
    {
     "name": "stdout",
     "output_type": "stream",
     "text": [
      "Длина получившейся битовой строки = 45835 бит или 5.595 кб\n",
      "Что составляет 0.0361385 от длины всей маски\n",
      "Получившийся результат лишь на 5-ом знаке отличается от энтропии\n",
      "Полученный результат уже достаточно хорош, чтобы мы могли выбрать арифметическое кодирование\n"
     ]
    }
   ],
   "source": [
    "print(f'Длина получившейся битовой строки = {len(bits)} бит или {round(len(bits) / 8 / 1024, 3)} кб')\n",
    "print(f'Что составляет {round(len(bits) / len(exceptions), 7)} от длины всей маски')\n",
    "print(f'Получившийся результат лишь на 5-ом знаке отличается от энтропии')\n",
    "print(f'Полученный результат уже достаточно хорош, чтобы мы могли выбрать арифметическое кодирование')"
   ]
  }
 ],
 "metadata": {
  "kernelspec": {
   "display_name": "venv",
   "language": "python",
   "name": "python3"
  },
  "language_info": {
   "codemirror_mode": {
    "name": "ipython",
    "version": 3
   },
   "file_extension": ".py",
   "mimetype": "text/x-python",
   "name": "python",
   "nbconvert_exporter": "python",
   "pygments_lexer": "ipython3",
   "version": "3.12.0"
  }
 },
 "nbformat": 4,
 "nbformat_minor": 5
}
